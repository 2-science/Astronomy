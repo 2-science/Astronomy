{
 "cells": [
  {
   "cell_type": "markdown",
   "metadata": {},
   "source": [
    "NAME: __________________        CLASS: __________________     DATE: __________________"
   ]
  },
  {
   "cell_type": "markdown",
   "metadata": {},
   "source": [
    "# Intermediate Introduction to Python\n",
    "\n",
    "### AIM - To introduce new methods and time evolving simulations to students with some familiarity of Python\n",
    "Difficulty: Medium\n",
    "\n",
    "## Let's go:\n",
    "\n",
    "This interactive notebook is part of a series which can be found here:\n",
    "\u000b",
    "\n",
    "https://github.com/DimitriosAstro/Astronomy  \n",
    "The notebook is distributed by Dimitrios Theodorakis under the GNU General Public License v3.0.\n",
    "\n",
    "Find more info at www.w3schools.com, www.python.org, www.learnpython.org  \n",
    "\n",
    "The purpose of this Notebook is to introduce some code snippets and ideas that may be useful in independent research projects and the notebooks in this series.\n",
    "\n",
    "## Contents\n",
    "\n",
    "* [Start](#Start)\n",
    "* [Logging](#Logging)\n",
    "* [Timing and Wrapping Functions](#Timing)\n",
    "* [Memory Profiling](#Memory)\n",
    "* [Object Orientated Python](#OOP)\n",
    "* [Time Evolving Simulations](#TES)\n",
    "* [Over To You](#OTY)\n",
    "\n",
    "\n",
    "## Start: <a class=\"anchor\" id=\"Start\"></a>\n",
    "\n",
    "*Shift+Enter* on a code snippet to run the code. Most of the time you'll have to run the snippets in order or you'll get an error.\n",
    "\n",
    "If you're stuck you can consult the docs at https://docs.python.org/3/, and https://numpy.org/doc/stable/.  \n",
    "You can also get advice from www.stackoverflow.com.\n",
    "\n",
    "**Comments** - All code should be commented for readability"
   ]
  },
  {
   "cell_type": "code",
   "execution_count": null,
   "metadata": {},
   "outputs": [],
   "source": [
    "# press Shift + Enter to run this cell!\n",
    "\n",
    "# This is a single line comment\n",
    "'''This is a \n",
    "multiline comment'''"
   ]
  },
  {
   "cell_type": "markdown",
   "metadata": {},
   "source": [
    "### Logging <a class=\"anchor\" id=\"Logging\"></a>\n",
    "\n",
    "Logging helps you spot and catch errors in your code. You can either log straight to the console or to a file.\n",
    "To start import the ```logging``` and ```sys``` modules."
   ]
  },
  {
   "cell_type": "code",
   "execution_count": null,
   "metadata": {},
   "outputs": [],
   "source": [
    "import logging\n",
    "import sys"
   ]
  },
  {
   "cell_type": "markdown",
   "metadata": {},
   "source": [
    "Now we can put warnings into our code to print to the console. There are five levels of messages: Debug, Info, Warning, Error, and Critical."
   ]
  },
  {
   "cell_type": "code",
   "execution_count": null,
   "metadata": {},
   "outputs": [],
   "source": [
    "logging.debug('This is a debug message')\n",
    "logging.info('This is an info message')\n",
    "logging.warning('This is a warning message')\n",
    "logging.error('This is an error message')\n",
    "logging.critical('This is a critical message')\n",
    "# try logging another critical message\n",
    "# Your code here:\n"
   ]
  },
  {
   "cell_type": "markdown",
   "metadata": {},
   "source": [
    "Notice how only messages with a level of 'Warning' or higher were printed to the console. This is the default configuration of the logger. To change this we have to reset the level of the logger using the ```basicConfig()``` command like this:"
   ]
  },
  {
   "cell_type": "code",
   "execution_count": null,
   "metadata": {},
   "outputs": [],
   "source": [
    "logging.basicConfig(level=logging.DEBUG)"
   ]
  },
  {
   "cell_type": "markdown",
   "metadata": {},
   "source": [
    "Now we can log all messages above debug:"
   ]
  },
  {
   "cell_type": "code",
   "execution_count": null,
   "metadata": {},
   "outputs": [],
   "source": [
    "logging.info('This will get logged')"
   ]
  },
  {
   "cell_type": "markdown",
   "metadata": {},
   "source": [
    "But wait nothing happened!!! The interactive nature of python notebooks means this command alone will not work as it does in normal ```.py``` files. Let's look at a better way of setting up logging which works interactively.\n",
    "\n",
    "Logging to a file! Run the code below and then look for the ```mylog.log``` file in this directory. It should contain your error message."
   ]
  },
  {
   "cell_type": "code",
   "execution_count": null,
   "metadata": {},
   "outputs": [],
   "source": [
    "logger = logging.getLogger()             # set up a new logger\n",
    "fhandler = logging.FileHandler(filename='mylog.log', mode='w')             # set the filename and the filemode to write\n",
    "formatter = logging.Formatter('%(asctime)s - %(name)s - %(levelname)s - %(message)s') # set the output format\n",
    "fhandler.setFormatter(formatter) # apply the formatter to our file handler\n",
    "logger.addHandler(fhandler)      # apply our file handler to our logger\n",
    "logger.setLevel(logging.DEBUG)   # set the logging level to DEBUG\n",
    "# add an error message below\n",
    "logging.error('''Your code here''')          # output our first message!"
   ]
  },
  {
   "cell_type": "markdown",
   "metadata": {},
   "source": [
    "Logging is useful in moderation. Logging constantly to a file can slow down your code, so start by testing a small chunk with 'Debug' warnings then your final code with higher levels only.\n",
    "\n",
    "### Timing and Wrapping Functions <a class=\"anchor\" id=\"Timing\"></a>\n",
    "\n",
    "It's often useful to time how long a function is taking to find bottlenecks in your code.\n",
    "The following code cell uses the functools and time modules to create a function wrapper which times a piece of code passed to it:"
   ]
  },
  {
   "cell_type": "code",
   "execution_count": null,
   "metadata": {},
   "outputs": [],
   "source": [
    "from functools import wraps\n",
    "from time import time\n",
    "\n",
    "def timing(f):                      # function to time the function f\n",
    "    @wraps(f)                       # wraps the inner function & ensures args, and kw args are passed\n",
    "    def wrap(*args, **kw):          # wrapper which takes the arguments and kw arguments from f\n",
    "        ts = time()                 # the start time!\n",
    "        result = f(*args, **kw)     # run the function to be timed\n",
    "        te = time()                 # the end time!\n",
    "        # print out the function name, arguments, and time taken\n",
    "        print('func:%r args:[%r, %r] took: %2.4f sec' % \\\n",
    "          (f.__name__, args, kw, te-ts))\n",
    "        return result\n",
    "    return wrap"
   ]
  },
  {
   "cell_type": "markdown",
   "metadata": {},
   "source": [
    "We can now use this wrapper function to time the following function. What does it do?"
   ]
  },
  {
   "cell_type": "code",
   "execution_count": null,
   "metadata": {},
   "outputs": [],
   "source": [
    "@timing\n",
    "def f(a):\n",
    "    for _ in range(a):\n",
    "        i = 0\n",
    "    return -1"
   ]
  },
  {
   "cell_type": "markdown",
   "metadata": {},
   "source": [
    "Run the code with ```a = 100``` then with ```a = 10000000``` how long does it take?"
   ]
  },
  {
   "cell_type": "code",
   "execution_count": null,
   "metadata": {},
   "outputs": [],
   "source": [
    "# Your code here:\n"
   ]
  },
  {
   "cell_type": "code",
   "execution_count": null,
   "metadata": {},
   "outputs": [],
   "source": [
    "# Your code here:\n"
   ]
  },
  {
   "cell_type": "markdown",
   "metadata": {},
   "source": [
    "Sometimes it is useful to repeat a function multiple times and take an average of the time taken. We can do this using the magic ```%timeit``` function:"
   ]
  },
  {
   "cell_type": "code",
   "execution_count": null,
   "metadata": {},
   "outputs": [],
   "source": [
    "%timeit sum(range(100))"
   ]
  },
  {
   "cell_type": "markdown",
   "metadata": {},
   "source": [
    "This performed the operation 100,000 times in each run (so 700,000 times overall!).\n",
    "\n",
    "Sometimes you can't re-run a function many times (if it takes a while for instance). That's where other functions like ```%%time``` come in handy. The double percent magic lets us time multiline code. This will give you the run-time for one run of the following code:"
   ]
  },
  {
   "cell_type": "code",
   "execution_count": null,
   "metadata": {},
   "outputs": [],
   "source": [
    "%%time\n",
    "for i in range(1000):\n",
    "    i = i**2"
   ]
  },
  {
   "cell_type": "markdown",
   "metadata": {},
   "source": [
    "There are subtle differences between how ```time``` and ```timeit``` work. You can also time each line of code individually. For more information see here: [https://docs.python.org/2/library/timeit.html](https://docs.python.org/2/library/timeit.html)\n",
    "\n",
    "### Memory Profiling <a class=\"anchor\" id=\"Memory\"></a>\n",
    "\n",
    "When analysing large amounts of data you need to consider your memory usage (both physical and RAM). The memory profiler module will help you optimise your code to use less memory. We can install the module using the ```%``` magic and then the python installer module ```pip```'s command ```pip install```. Then all we have to do is load the module:"
   ]
  },
  {
   "cell_type": "code",
   "execution_count": null,
   "metadata": {},
   "outputs": [],
   "source": [
    "# run as is\n",
    "%pip install memory_profiler\n",
    "%load_ext memory_profiler"
   ]
  },
  {
   "cell_type": "markdown",
   "metadata": {},
   "source": [
    "Now we have the memory profiler module loaded we can use the magic function ```%memit``` to measure the peak memory a function uses:"
   ]
  },
  {
   "cell_type": "code",
   "execution_count": null,
   "metadata": {},
   "outputs": [],
   "source": [
    "%memit sum(range(100))"
   ]
  },
  {
   "cell_type": "markdown",
   "metadata": {},
   "source": [
    "The memory profiler module is an incredibly powerful. You can visualise your memory usage as a graph for your whole code if you need to! For more information on profiling and timing your code see here: [https://jakevdp.github.io/PythonDataScienceHandbook/01.07-timing-and-profiling.html](https://jakevdp.github.io/PythonDataScienceHandbook/01.07-timing-and-profiling.html)\n",
    "\n",
    "### Object Orientated Python (Classes) <a class=\"anchor\" id=\"OOP\"></a>\n",
    "\n",
    "Classes are used to make Python objects. The following class makes an Animal!"
   ]
  },
  {
   "cell_type": "code",
   "execution_count": null,
   "metadata": {},
   "outputs": [],
   "source": [
    "class Animal:\n",
    "    \n",
    "    # makes an animal that lives at Nottingham Zoo\n",
    "    \n",
    "    home = \"Notts Zoo\"                      # this attribute will apply to all animals in this class\n",
    "    \n",
    "    def __init__(self, name, age):          # an initialisation method tells us how to make an object with this class\n",
    "        self.name = name                    # the self keyword refers to this object we are making\n",
    "        self.age = age                      # to start with we have to give the animal a name and age"
   ]
  },
  {
   "cell_type": "markdown",
   "metadata": {},
   "source": [
    "To add an animal using this class we treat the class in a similar manner to normal functions. Remember we have to pass the name and age of the animal as defined by the ```__init__``` class function."
   ]
  },
  {
   "cell_type": "code",
   "execution_count": null,
   "metadata": {},
   "outputs": [],
   "source": [
    "Sparkles = Animal('Sparkles', 3)"
   ]
  },
  {
   "cell_type": "markdown",
   "metadata": {},
   "source": [
    "This added an animal called Sparkles who is 3! You can access any of Sparkles information like this:"
   ]
  },
  {
   "cell_type": "code",
   "execution_count": null,
   "metadata": {},
   "outputs": [],
   "source": [
    "Sparkles.age"
   ]
  },
  {
   "cell_type": "markdown",
   "metadata": {},
   "source": [
    "Try retrieving Sparkles name using the same approach as above:"
   ]
  },
  {
   "cell_type": "code",
   "execution_count": null,
   "metadata": {},
   "outputs": [],
   "source": [
    "# Your code here:\n"
   ]
  },
  {
   "cell_type": "markdown",
   "metadata": {},
   "source": [
    "Let's add a ```description``` function to the class:"
   ]
  },
  {
   "cell_type": "code",
   "execution_count": null,
   "metadata": {},
   "outputs": [],
   "source": [
    "class Animal:\n",
    "    \n",
    "    home = \"Notts Zoo\"\n",
    "    \n",
    "    def __init__(self, name, age):\n",
    "        self.name = name\n",
    "        self.age = age\n",
    "    \n",
    "    # prints the name and age of the animal\n",
    "    def description(self):\n",
    "        return f\"{self.name} is {self.age} years old\""
   ]
  },
  {
   "cell_type": "markdown",
   "metadata": {},
   "source": [
    "We access functions within classes as follows:"
   ]
  },
  {
   "cell_type": "code",
   "execution_count": null,
   "metadata": {},
   "outputs": [],
   "source": [
    "Sparkles = Animal('Sparkles', 3)\n",
    "print(Sparkles.description())\n",
    "print(Sparkles)"
   ]
  },
  {
   "cell_type": "markdown",
   "metadata": {},
   "source": [
    "Notice I had to re-initialise Sparkles after changing the class code. Finally let's add another function to the class called ```speak``` which takes one argument, ```sound```."
   ]
  },
  {
   "cell_type": "code",
   "execution_count": null,
   "metadata": {},
   "outputs": [],
   "source": [
    "class Animal:\n",
    "    \n",
    "    home = \"Notts Zoo\"\n",
    "    \n",
    "    def __init__(self, name, age):\n",
    "        self.name = name\n",
    "        self.age = age\n",
    "        \n",
    "    def description(self):\n",
    "        return f\"{self.name} is {self.age} years old\"\n",
    "    \n",
    "    def speak(self, sound):\n",
    "        return f\"{self.name} says {sound}\"\n",
    "\n",
    "    def __str__(self):\n",
    "        return f\"{self.name} is {self.age} years old\""
   ]
  },
  {
   "cell_type": "code",
   "execution_count": null,
   "metadata": {},
   "outputs": [],
   "source": [
    "Sparkles = Animal('Sparkles', 3)\n",
    "# add a string to be printed by the speak function\n",
    "Sparkles.speak('''Your code here''')"
   ]
  },
  {
   "cell_type": "markdown",
   "metadata": {},
   "source": [
    "This new function requires a keyword (the sound the animal makes) to run! Notice I also snuck in another function ```__str__``` which changes what is outputted when the ```print()``` function is used on an instance of the Animal class:"
   ]
  },
  {
   "cell_type": "code",
   "execution_count": null,
   "metadata": {},
   "outputs": [],
   "source": [
    "print(Sparkles)"
   ]
  },
  {
   "cell_type": "markdown",
   "metadata": {},
   "source": [
    "You can find out more about Python classes here: [https://www.w3schools.com/python/python_classes.asp](https://www.w3schools.com/python/python_classes.asp)\n",
    "\n",
    "## Time Evolving Simulations <a class=\"anchor\" id=\"TES\"></a>\n",
    "\n",
    "In this section we will look at time driven simulations where each step forward in time is a constant time-step. Then we will look at discrete event simulations which can be more accurate in some scenarios.\n",
    "\n",
    "### Time Driven Simulations\n",
    "\n",
    "In a time driven simulation you step forward in time by a fixed time-step ```dt``` each iteration. \n",
    "Let's build a time driven simulation for some balls in a 2D box. We will need to use numpy to store arrays of x and y positions for the balls, and x and y components of the balls velocities."
   ]
  },
  {
   "cell_type": "code",
   "execution_count": null,
   "metadata": {},
   "outputs": [],
   "source": [
    "import numpy as np"
   ]
  },
  {
   "cell_type": "code",
   "execution_count": null,
   "metadata": {},
   "outputs": [],
   "source": [
    "# let's keep things simple with 2 balls to start\n",
    "# initialise the position array with random numbers\n",
    "pos = np.array([[,], [,]])\n",
    "pos"
   ]
  },
  {
   "cell_type": "code",
   "execution_count": null,
   "metadata": {},
   "outputs": [],
   "source": [
    "# initialise the velocity array with random numbers\n",
    "vel = '''Your code here'''\n",
    "vel"
   ]
  },
  {
   "cell_type": "markdown",
   "metadata": {},
   "source": [
    "Now we have our initial positions and velocities for our two balls we can define a function called ```move()```. This will update the position of the balls after a certain amount of time (stored in the argument ```step```). Imagine that these balls are in a box of width/height of 20 centered on (0,0). We can calculate when they bounce by working out if the absolute value of the position is greater than or equal to 10:"
   ]
  },
  {
   "cell_type": "code",
   "execution_count": null,
   "metadata": {},
   "outputs": [],
   "source": [
    "def move(step):\n",
    "    global pos                         # allows us to access the pos array from inside the function\n",
    "    pos += vel*step                    # update the positions\n",
    "    bounce = abs(pos) >= 10            # check whether the ball will bounce\n",
    "    vel[bounce] = -vel[bounce]         # if it bounces flip the signs on the velocity"
   ]
  },
  {
   "cell_type": "markdown",
   "metadata": {},
   "source": [
    "Try and move the balls forward in time by ```0.5``` s:"
   ]
  },
  {
   "cell_type": "code",
   "execution_count": null,
   "metadata": {},
   "outputs": [],
   "source": [
    "'''Your code here'''\n",
    "pos"
   ]
  },
  {
   "cell_type": "markdown",
   "metadata": {},
   "source": [
    "Now move the balls forward in time by ```100``` s:"
   ]
  },
  {
   "cell_type": "code",
   "execution_count": null,
   "metadata": {},
   "outputs": [],
   "source": [
    "'''Your code here'''\n",
    "pos"
   ]
  },
  {
   "cell_type": "markdown",
   "metadata": {},
   "source": [
    "What do you notice about the positions?\n",
    "\n",
    "The time step of ```100``` s is way too large. A much smaller time step is better. Picking a time step that is too small increases the number of computations you have to make, so there is a trade-off between accuracy and speed.\n",
    "\n",
    "### Event Driven Simulations\n",
    "\n",
    "More properly called discrete event simulations these do not evolve based on a fixed time-step but instead evolve based on which event is happening next.\n",
    "\n",
    "In our simulation the balls will travel along their straight line paths until they hit a wall of the 2D box. So our events are collisions with the walls.\n",
    "\n",
    "We first need a function to find the time until the next collision:"
   ]
  },
  {
   "cell_type": "code",
   "execution_count": null,
   "metadata": {},
   "outputs": [],
   "source": [
    "def next_col(pos, vel):\n",
    "    # finds the time until the next collision\n",
    "    # assumes a box with width/height of 10 centered on (5,5)\n",
    "    L = 10                              # width/height of the box\n",
    "    tN = (L - pos[:, 1])/ vel[:, 1]     # time to the North edge\n",
    "    # complete the following code:\n",
    "    tE = '''Your code here'''           # time to the East edge\n",
    "    tS = -pos[:, 1]/ vel[:, 1]          # time to the South edge\n",
    "    # complete the following code:\n",
    "    tW = '''Your code here'''           # time to the West edge\n",
    "    t = np.concatenate((tN, tE, tS, tW), axis=None)    # put all the times in one array \n",
    "    step = t[np.where(t > 0, t, np.inf).argmin()]      # find the smallest positive time\n",
    "    return step                                        # return that time as the time step"
   ]
  },
  {
   "cell_type": "markdown",
   "metadata": {},
   "source": [
    "Now run the ```next_col``` function with the positions and velocities we defined earlier:"
   ]
  },
  {
   "cell_type": "code",
   "execution_count": null,
   "metadata": {},
   "outputs": [],
   "source": [
    "new_step = next_col(pos, vel)\n",
    "new_step"
   ]
  },
  {
   "cell_type": "markdown",
   "metadata": {},
   "source": [
    "Use this new time step, ```new_step```, and the ```move``` function to move forward in time:"
   ]
  },
  {
   "cell_type": "code",
   "execution_count": null,
   "metadata": {},
   "outputs": [],
   "source": [
    "'''Your code here'''\n",
    "print(pos)\n",
    "print(vel)"
   ]
  },
  {
   "cell_type": "markdown",
   "metadata": {},
   "source": [
    "Notice how one of the position elements is now exactly 10! There is zero error in our calculations for these balls using an event based simulation. Event based simulations are useful for scenarios such as traffic lights where you have events such as a car reaching a light, a light turning green etc.\n",
    "\n",
    "Things get a lot more complicated if the events are causally linked or many events happen at the same time!\n",
    "You can find out more about these types of simulations in the Coursera course - Simulation and Modelling of Natural Processes.\n",
    "\n",
    "## Over to You: <a class=\"anchor\" id=\"OTY\"></a>\n",
    "\n",
    "**Task 1:** Create a class for the balls which can store information about their positions, velocities, sizes, and colours.   \n",
    "**Task 2:** Use a discrete event simulation to calculate where the balls will end up after 100 collisions.   \n",
    "**Task 3:** Visualise the paths of the balls using Matplotlib.   \n",
    "**Task 4:** Visualise the motion of the balls using Matplotlib's animation capabilities."
   ]
  }
 ],
 "metadata": {
  "kernelspec": {
   "display_name": "Python 3",
   "language": "python",
   "name": "python3"
  },
  "language_info": {
   "codemirror_mode": {
    "name": "ipython",
    "version": 3
   },
   "file_extension": ".py",
   "mimetype": "text/x-python",
   "name": "python",
   "nbconvert_exporter": "python",
   "pygments_lexer": "ipython3",
   "version": "3.6.10"
  }
 },
 "nbformat": 4,
 "nbformat_minor": 4
}
