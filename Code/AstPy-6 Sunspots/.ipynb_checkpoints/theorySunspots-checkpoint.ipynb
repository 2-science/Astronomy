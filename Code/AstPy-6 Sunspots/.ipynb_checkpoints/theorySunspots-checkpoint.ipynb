{
 "cells": [
  {
   "cell_type": "markdown",
   "metadata": {},
   "source": [
    "# Sunspots Theory\n",
    "\n",
    "© Dimitrios Theodorakis GNU General Public License v3.0 https://github.com/DimitriosAstro/Astronomy"
   ]
  },
  {
   "cell_type": "code",
   "execution_count": null,
   "metadata": {},
   "outputs": [],
   "source": [
    "import matplotlib.pyplot as plt\n",
    "import numpy as np\n",
    "from IPython.display import Image\n",
    "%matplotlib inline"
   ]
  },
  {
   "cell_type": "markdown",
   "metadata": {},
   "source": [
    "### AIM - To visualise and describe the motion of a sunspot\n",
    "\n",
    "This notebook will look at a theoretical sunspot travelling across the face of the sun and explore why a third degree polyfit is used in ```sunspotsAuto.py``` to test whether we found a good sunspot track.\n",
    "\n",
    "Sunspots move across the face of the sun parallel to the equator. This means they move in circles (if you look down on the sun from the top or vice versa). A circle can be related to the trig functions sine and cosine:"
   ]
  },
  {
   "cell_type": "code",
   "execution_count": null,
   "metadata": {},
   "outputs": [],
   "source": [
    "t = np.linspace(0, 2*np.pi, 18)\n",
    "# make x equal to the cos(t) and y equal to sin(t)\n",
    "# Your code here:\n",
    "x = \n",
    "y = \n",
    "\n",
    "fig = plt.figure(1)\n",
    "plt.scatter(y, x),plt.axis('equal')\n",
    "plt.plot(y, x)"
   ]
  },
  {
   "cell_type": "markdown",
   "metadata": {},
   "source": [
    "We have a circle! This circle is pointy though because we only used 18 points for our plot. This is our top down view of the sun showing a sunspot moving with one full rotation of the sun.\n",
    "\n",
    "Let's see if we can plot the side view:"
   ]
  },
  {
   "cell_type": "code",
   "execution_count": null,
   "metadata": {},
   "outputs": [],
   "source": [
    "fig = plt.figure(2)\n",
    "plt.scatter(x, np.ones(len(x)))"
   ]
  },
  {
   "cell_type": "markdown",
   "metadata": {},
   "source": [
    "Here we see the path of the sunspot that you'd see on Earth as we see the side face of the sun not the top. Notice how towards the sides they points seem to bunch up? The sunspot is still rotating with the sun the same amount but because of our perspective it looks like it hasn't moved much in the x direction.\n",
    "\n",
    "In ```sunspots.ipynb``` and ```sunspotsAuto.py``` we deal with images where the origin is not the center of the image rather the lower left corner. Let's shift our data to match this:"
   ]
  },
  {
   "cell_type": "code",
   "execution_count": null,
   "metadata": {},
   "outputs": [],
   "source": [
    "shiftx = []\n",
    "# x starts at 1 and goes to -1, shift x to start at 0 and go to 2\n",
    "# Hint: Use a for loop with an if else statement inside!\n",
    "# Your code here:\n",
    "\n",
    "\n",
    "shiftx"
   ]
  },
  {
   "cell_type": "markdown",
   "metadata": {},
   "source": [
    "Now we've made the values positive let's plot them vs time:"
   ]
  },
  {
   "cell_type": "code",
   "execution_count": null,
   "metadata": {},
   "outputs": [],
   "source": [
    "fig, (ax1, ax2) = plt.subplots(1, 2, sharey=True)\n",
    "half = int(np.floor(len(t)/2))\n",
    "ax1.scatter(t[:half],x[:half])\n",
    "ax2.scatter(t[:half],shiftx[:half])"
   ]
  },
  {
   "cell_type": "markdown",
   "metadata": {},
   "source": [
    "On the left is our before and the right after shifting the x values to be positive and increasing like in our images. Notice that the time was cut in half so we don't see what happens on the side of the sun facing away from us.\n",
    "\n",
    "This fake sunspot's path looks a bit like an s shape. We can try fitting a curve to it using ```np.polyfit()```:"
   ]
  },
  {
   "cell_type": "code",
   "execution_count": null,
   "metadata": {},
   "outputs": [],
   "source": [
    "fit1 = np.polyfit(t[:half],shiftx[:half],1)\n",
    "fit1"
   ]
  },
  {
   "cell_type": "markdown",
   "metadata": {},
   "source": [
    "The array gives us the gradient then the intercept of the fit. If we include ```full=True``` it will also give us some info about the goodness of the fit:"
   ]
  },
  {
   "cell_type": "code",
   "execution_count": null,
   "metadata": {},
   "outputs": [],
   "source": [
    "np.polyfit(t[:half],shiftx[:half],1,full=True)"
   ]
  },
  {
   "cell_type": "markdown",
   "metadata": {},
   "source": [
    "The second array is the residuals from fitting a straight line (hence the 1 in polyfit()). Let's add this fit to our graph:"
   ]
  },
  {
   "cell_type": "code",
   "execution_count": null,
   "metadata": {},
   "outputs": [],
   "source": [
    "fig = plt.figure(3)\n",
    "ax = fig.add_subplot()\n",
    "ax.scatter(t[:half],shiftx[:half])\n",
    "# the first entry in fit1 is the gradient, the second is the intercept\n",
    "# calculate shiftxTheory1 = mt + c\n",
    "# Your code here:\n",
    "shiftxTheory1 = \n",
    "\n",
    "ax.plot(t[:half], shiftxTheory1)"
   ]
  },
  {
   "cell_type": "markdown",
   "metadata": {},
   "source": [
    "That fit doesn't look great, it turns out a third order fit is best:"
   ]
  },
  {
   "cell_type": "code",
   "execution_count": null,
   "metadata": {},
   "outputs": [],
   "source": [
    "fit3 = np.polyfit(t[:half],shiftx[:half],3,full=True)\n",
    "print('Residual = '+str(fit3[1][0]))\n",
    "shiftxTheory3 = fit3[0][0]*t[:half]**3 + fit3[0][1]*t[:half]**2 + fit3[0][2]*t[:half] + fit3[0][3]\n",
    "ax.plot(t[:half], shiftxTheory3)\n",
    "fig"
   ]
  },
  {
   "cell_type": "markdown",
   "metadata": {},
   "source": [
    "A much better fit and smaller residual! In ```sunspotsAuto.py``` I use a third degree polynomial fit to test whether to accept or reject a sunspot track.\n",
    "\n",
    "The sunspots 's' curve is actually just part of a sin wave and the path of the sunspot as we see it on the surface looks like an object in simple harmonic motion. Viewed top down the sunspot is travelling in uniform circular motion (travelling on a circular path). This leads us to the equation we use in ```sunspots.ipynb``` to calculate the period of rotation:\n",
    "\n",
    "$$x = Asin(\\frac{2\\pi}{T}t+\\phi)$$\n",
    "\n",
    "Where we tend to ignore $\\phi$ because the gradient of a graph of $arcsin(x/A)$ vs $t$ gives us $2\\pi/T$ which we can use to find the time period $T$:\n",
    "\n",
    "$$T = \\frac{2\\pi}{m}$$"
   ]
  },
  {
   "cell_type": "code",
   "execution_count": null,
   "metadata": {},
   "outputs": [],
   "source": [
    "Image('./figures/theorySunspotsPathAll.png')"
   ]
  },
  {
   "cell_type": "markdown",
   "metadata": {},
   "source": [
    "In this final image you can see the path of a sunspot on the left if we plot displacement on the y axis (displacment from the axis of rotation). This shows that the third order fit is good and a first order fit is only good for the time when the sunspot is near the rotation axis of the sun. \n",
    "\n",
    "On the right, at the top is the top-down view of the sun showing the circular motion of the sunspot, and on the bottom is the face of the sun as we see it showing the sunspot in simple harmonic motion.\n",
    "\n",
    "You can create this diagram yourself using ```theorySunspots.py```.\n",
    "\n",
    "# Reference\n",
    "\n",
    "1) scienceinschool - Measuring Solar Rotation - https://www.scienceinschool.org/content/sunspots-rotating-sun"
   ]
  }
 ],
 "metadata": {
  "kernelspec": {
   "display_name": "Python 3",
   "language": "python",
   "name": "python3"
  },
  "language_info": {
   "codemirror_mode": {
    "name": "ipython",
    "version": 3
   },
   "file_extension": ".py",
   "mimetype": "text/x-python",
   "name": "python",
   "nbconvert_exporter": "python",
   "pygments_lexer": "ipython3",
   "version": "3.6.10"
  }
 },
 "nbformat": 4,
 "nbformat_minor": 4
}
