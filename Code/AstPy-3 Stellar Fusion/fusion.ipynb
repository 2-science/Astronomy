{
 "cells": [
  {
   "cell_type": "markdown",
   "metadata": {},
   "source": [
    "# Stellar Fusion\n",
    "\n",
    "© Dimitrios Theodorakis GNU General Public License v3.0 \u000b",
    "https://github.com/DimitriosAstro/Astronomy  \n",
    "\n",
    "## Introduction to nuclear fusion\n",
    "\n",
    "### AIM - Explain why we use different units when dealing with particles, describe binding energy, explain the process of fusion with calculations.\n",
    "\n",
    "**Predict**\n",
    "\n",
    "Have a think about these questions and make some predictions! Be sure to tell someone else what you predict.\n",
    "\n",
    "1) How much energy would it take to hold two protons together?  \n",
    "2) Does fusing all atoms release energy?  \n",
    "3) How hot does the sun have to be for fusion to occur?\n",
    "\n",
    "## Let's go:"
   ]
  },
  {
   "cell_type": "code",
   "execution_count": null,
   "metadata": {},
   "outputs": [],
   "source": [
    "import numpy as np\n",
    "from numpy.random import default_rng\n",
    "import matplotlib.pyplot as plt\n",
    "import matplotlib.animation as animation\n",
    "from matplotlib import rc\n",
    "from IPython.display import Image\n",
    "%matplotlib inline"
   ]
  },
  {
   "cell_type": "markdown",
   "metadata": {},
   "source": [
    "## Units and Particles\n",
    "\n",
    "Before we look at fusion we need to know about some elementary particles.  \n",
    "An atom is made up of protons and neutrons in a central nucleus, and electrons which orbit the nucleus.  \n",
    "These three particles are very small! The mass of a proton is defined below:"
   ]
  },
  {
   "cell_type": "code",
   "execution_count": null,
   "metadata": {},
   "outputs": [],
   "source": [
    "pMass = 1.6726219236951*10**(-27) # kg"
   ]
  },
  {
   "cell_type": "markdown",
   "metadata": {},
   "source": [
    "This is a super small number! Lets introduce the atomic mass unit, $u$.  \n",
    "This lets us convert our proton mass to a larger number which is easier to work with.\n"
   ]
  },
  {
   "cell_type": "code",
   "execution_count": null,
   "metadata": {},
   "outputs": [],
   "source": [
    "atomicMassUnit = 1.66054*10**(-27) # kg\n",
    "pMassInAMU = pMass/atomicMassUnit\n",
    "\n",
    "print(\"Proton's mass in atomic mass units: \"+str(pMassInAMU)+\" u\")"
   ]
  },
  {
   "cell_type": "markdown",
   "metadata": {},
   "source": [
    "This number is a lot easier to work with!\n",
    "\n",
    "Particles also have a rest energy associated with their mass by Einstein's famous equation $E = mc^2$.\n"
   ]
  },
  {
   "cell_type": "code",
   "execution_count": null,
   "metadata": {},
   "outputs": [],
   "source": [
    "c = 299792458 # m/s\n",
    "# Use Einstein's equation to calculate the rest energy of a Proton\n",
    "# Your code here:\n",
    "pEnergy = pMass * c**2\n",
    "\n",
    "print(\"Proton's rest energy: \"+str(pEnergy)+\" J\")"
   ]
  },
  {
   "cell_type": "markdown",
   "metadata": {},
   "source": [
    "Hold on we used the mass in $kg$ here but we converted the mass into $u$ earlier to make the numbers easier to handle.  \n",
    "Let's see if we can change the energy into more workable units as well.\n",
    "\n",
    "We will convert Joules into electron volts ($eV$).  \n",
    "\n",
    "$$1 eV = 1.602176634\\times10^{-19} J$$   \n",
    "\n",
    "($1.602176634\\times10^{-19}$ is also the charge of an electron in Coulombs!)\n"
   ]
  },
  {
   "cell_type": "code",
   "execution_count": null,
   "metadata": {},
   "outputs": [],
   "source": [
    "eV = 1.602176634*10**(-19) # J\n",
    "# Convert this rest energy to eV\n",
    "# Your code here:\n",
    "pEnergyeV = pEnergy / eV\n",
    "\n",
    "print(\"Proton's rest energy: \"+str(pEnergyeV/1000000)+\" MeV\")"
   ]
  },
  {
   "cell_type": "markdown",
   "metadata": {},
   "source": [
    "You'll notice we also divided by a million to print the answer in $MeV$.\n",
    "\n",
    "Actually we can skip a few steps if we define the proton's mass in $u$ from the beginning:\n"
   ]
  },
  {
   "cell_type": "code",
   "execution_count": null,
   "metadata": {},
   "outputs": [],
   "source": [
    "pM = 1.00727646662153 # u\n",
    "\n",
    "print(str(round(pM,5)==round(pMassInAMU,5)) + \" - Yay! The accepted value is close to our calculated mass.\")"
   ]
  },
  {
   "cell_type": "markdown",
   "metadata": {},
   "source": [
    "We can then use the atomic mass unit energy equivalence to convert $u$ to $MeV$.\n",
    "\n",
    "$$u = 931.4941024228 MeV/c^2$$"
   ]
  },
  {
   "cell_type": "code",
   "execution_count": null,
   "metadata": {},
   "outputs": [],
   "source": [
    "u = 931.4941024228 # MeV/c^2\n",
    "# Calculate the proton's rest energy again but this time use atomic mass units\n",
    "# Your code here:\n",
    "pE = u*pMassInAMU\n",
    "\n",
    "print(\"Proton's rest energy: \"+str(pE)+\" MeV\")\n",
    "\n",
    "print(str(round(pE,3)==round(pEnergyeV/1000000,3)) + \" - Yay! Our two values are in agreement.\")"
   ]
  },
  {
   "cell_type": "markdown",
   "metadata": {},
   "source": [
    "## Over to you: \n",
    "\n",
    "Caculate the mass of a neutron in $u$ and its rest energy in $MeV$.\n",
    "Are the numbers the same for protons and neutrons? Do the same for an electron.\n",
    "You will need the mass of a neutron and an electron:\n",
    "\n",
    "$$m_n = 1.6749274980495\\times10^{−27} kg$$\n",
    "$$m_e = 9.109383701528\\times10^{-31} kg$$"
   ]
  },
  {
   "cell_type": "code",
   "execution_count": null,
   "metadata": {},
   "outputs": [],
   "source": [
    "# Calculate the mass of a neutron in u and its rest energy in MeV\n",
    "# Your code below:\n",
    "nM = 1.6749274980495*10**(-27) / atomicMassUnit\n",
    "nE = nM * u"
   ]
  },
  {
   "cell_type": "markdown",
   "metadata": {},
   "source": [
    "# Mass Excess, Mass Defect, and Binding Energy\n",
    "\n",
    "Now we know about the different units we are going to use let's start looking at nuclei.\n",
    "Why nuclei? The temperatures needed to fuse elements are so high that fusion occurs in a plasma where electrons are stripped from the atom.\n",
    "It is these nuclei that fuse together.\n",
    "\n",
    "Lets look at the ${^{1.0078}_{1}H+}$ nucleus. It has an Atomic Number ($Z$) of 1 and a Mass Number ($A$) of 1.0078250321. $Z$ is the number of protons in our nucleus (and the number of electrons in an atom). $A$ is the number of protons and neutrons in the nucleus.  \n",
    "Later we'll need the number of neutrons in a nucleus which we can find using $A-Z$.\n",
    "\n",
    "Notice how $A$ is greater than $Z$? You might think $A$ should be 1 right, after all it only has 1 proton and 0 neutrons.\n",
    "This extra mass is called the [mass excess](https://en.wikipedia.org/wiki/Mass_excess). Let's calculate this mass excess, $\\Delta M$.\n",
    "\n",
    "$$\\Delta M = m - A$$"
   ]
  },
  {
   "cell_type": "code",
   "execution_count": null,
   "metadata": {},
   "outputs": [],
   "source": [
    "deltaM_H = 1.0078250321-np.floor(1.0078250321)\n",
    "print(\"Mass excess for 1H nucleus: \"+str(deltaM_H)+\" u\")\n",
    "print(\"Mass excess for 1H nucleus: \"+str(deltaM_H*u*1000)+\" keV\")"
   ]
  },
  {
   "cell_type": "markdown",
   "metadata": {},
   "source": [
    "This mass excess is related to the [nuclear binding energy](https://en.wikipedia.org/wiki/Nuclear_binding_energy) (which we will calculate later) of the nucleus relative to the binding energy per nucleon of $^{12}C$ which has a Mass Excess of 0. \n",
    "\n",
    "Try calculating the mass excess of of ${^{4.002603}_2 He}$ below:"
   ]
  },
  {
   "cell_type": "code",
   "execution_count": null,
   "metadata": {},
   "outputs": [],
   "source": [
    "# Your code here:\n",
    "deltaM_He = 4.002603-np.floor(4.002603)\n",
    "print(\"Mass excess for 4He nucleus: \"+str(deltaM_He)+\" u\")"
   ]
  },
  {
   "cell_type": "markdown",
   "metadata": {},
   "source": [
    "## Mass Defect\n",
    "\n",
    "Mass Excess was the difference between the actual mass and the mass number. [Mass Defect](https://www.sciencedirect.com/topics/engineering/mass-defect) is instead the difference between the sum of the masses of all particles making up the atom (the calculated mass) and the actual mass. Stable nuclei have a negative Mass Defect. You can work out the Mass Defect $\\Delta m$ using:\n",
    "\n",
    "$$\\Delta m = m_A - Z(m_p+m_e) - (A-Z)m_n$$\n",
    "\n",
    "Try using this equation to calculate the mass defect of ${^{4.002603}_2 He}$:"
   ]
  },
  {
   "cell_type": "code",
   "execution_count": null,
   "metadata": {},
   "outputs": [],
   "source": [
    "# you will need the masses of an electron and neutron in amu you calculated earlier\n",
    "# remember A and Z are integers (you can't have part of a particle!)\n",
    "# Your code here:\n",
    "deltaM_defect_He = 4.002603 - 2*(pMassInAMU + 9.109383701528*10**(-31)) - (4.002603-2)*nM\n",
    "print(\"Mass defect for 4He nucleus: \"+str(deltaM_defect_He)+\" u\")"
   ]
  },
  {
   "cell_type": "markdown",
   "metadata": {},
   "source": [
    "## Binding Energy\n",
    "\n",
    "Nuclear binding energy is the energy needed to break a nucleus into protons and neutrons.  \n",
    "Electron binding energy is the energy needed to break the electrons free from the atom.\n",
    "\n",
    "Think of it this way:\n",
    "\n",
    "$${^{1.0078}_{1}H} + electron\\ binding\\ energy = p $$\n",
    "\n",
    "$${^{4.0026}_{2}He^{2+}} + nuclear\\ binding\\ energy = 2p + 2n$$\n",
    "\n",
    "Since fusion deals with nuclei we will only consider nuclear binding energy which is commonly expressed as binding energy per nucleon in keV or MeV (nucleon being a proton or neutron). Note that electron binding energies are order of magnitudes lower than nuclear binding energies.\n",
    "The binding energy per nucleon for ${^{1.0078}_{1}H}$ is $0$ because there is only one nucleon.\n",
    "\n",
    "You can use this Mass Defect to calculate the binding energy, just times the mass defect by the energy equivalence of u:"
   ]
  },
  {
   "cell_type": "code",
   "execution_count": null,
   "metadata": {},
   "outputs": [],
   "source": [
    "# remember the final energy should be positive, print your result\n",
    "# Your code here:\n",
    "BE_He =  -(deltaM_defect_He*u)\n",
    "print(\"Binding Energy for 4He nucleus: \"+str(BE_He)+\" MeV\")"
   ]
  },
  {
   "cell_type": "markdown",
   "metadata": {},
   "source": [
    "The binding energy is usually quoted per nucleon so divide the energy by the nucleon number of Helium:"
   ]
  },
  {
   "cell_type": "code",
   "execution_count": null,
   "metadata": {},
   "outputs": [],
   "source": [
    "# Your code here:\n",
    "BE_He_perA = BE_He/4\n",
    "print(\"Binding Energy per Nucleon for 4He nucleus: \"+str(BE_He_perA)+\" MeV\")"
   ]
  },
  {
   "cell_type": "markdown",
   "metadata": {},
   "source": [
    "## Visualising Binding Energy\n",
    "\n",
    "Before we move on let's look at the binding energy per nucleon for the elements. We can use the library pandas to analyse data from the Atomic Mass Data Center which is in the csv \"mass16Abundant.csv\"."
   ]
  },
  {
   "cell_type": "code",
   "execution_count": null,
   "metadata": {},
   "outputs": [],
   "source": [
    "import pandas as pd\n",
    "\n",
    "df = pd.read_csv('mass16Abundant.csv')"
   ]
  },
  {
   "cell_type": "markdown",
   "metadata": {},
   "source": [
    "This loads the nuclear data for the most abundant isotope for each element.  \n",
    "We can have a look at the data using the following command:"
   ]
  },
  {
   "cell_type": "code",
   "execution_count": null,
   "metadata": {},
   "outputs": [],
   "source": [
    "print(df.head())"
   ]
  },
  {
   "cell_type": "markdown",
   "metadata": {},
   "source": [
    "This printed out the header and the first five rows. You can see data for the elements Hydrogen to Boron.  \n",
    "Let's plot the binding energy per nucleon ($keV$) against the atomic number ($Z$):"
   ]
  },
  {
   "cell_type": "code",
   "execution_count": null,
   "metadata": {},
   "outputs": [],
   "source": [
    "fig = plt.figure(1)\n",
    "# Add axis labels to this graph!\n",
    "# Your code here:\n",
    "\n",
    "\n",
    "plt.scatter(df[\"Z\"], df[\"BINDING ENERGY (keV)\"], marker='o', alpha=0.75)"
   ]
  },
  {
   "cell_type": "markdown",
   "metadata": {},
   "source": [
    "Here we accessed the data in a column using: \n",
    "```python \n",
    "df[\"Name of Column\"]\n",
    "``` \n",
    "\n",
    "This isn't very pretty. Let's load an image I made earlier:"
   ]
  },
  {
   "cell_type": "code",
   "execution_count": null,
   "metadata": {},
   "outputs": [],
   "source": [
    "Image(\"bindingEnergyLog.gif\")"
   ]
  },
  {
   "cell_type": "markdown",
   "metadata": {},
   "source": [
    "Great! Now we can see the binding energy per nucleon for the most abundant isotopes of each element. We have labelled Iron ($Fe$) because it has the highest binding energy per nucleon. For elements past Iron fusion requires energy instead of releasing it. This means a star can only fuse elements up to Iron (if it's big and hot enough to do so). \n",
    "\n",
    "# Stellar Fusion\n",
    "\n",
    "The main fusion reaction in the sun is the following:\n",
    "\n",
    "$$4{^{1.0078}_{1}H^{+}}\\rightarrow{^{4.0026}_{2}He^{2+}}+2e^{+}+2\\nu_{e}$$\n",
    "\n",
    "Where $H^{+}$ is a hydrogen nucleus (a proton), ${^{4.0026}_{2}He^{2+}}$ is a Helium nucleus, $e^{+}$ is a positron, and $\\nu_{e}$ is an electron neutrino.  \n",
    "There are multiple steps within this overall reaction which we have ignored (look up the p-p chain).\n",
    "\n",
    "We can use this equation to calculate a [$Q$ value](https://en.wikipedia.org/wiki/Q_value_(nuclear_science)) for the reaction.  \n",
    "If energy is released $Q > 0$. If energy is used $Q < 0$.\n",
    "\n",
    "$$Q/c^2 = 4 \\Delta{^{1.0078}_{1}H^{+}}-\\Delta{^{4.0026}_{2}He^{2+}}-4m_e$$\n",
    "\n",
    "This is the initial mass excess minus the final mass excess (minus the mass of those pesky electrons since mass excesses also take into account electron binding energy).\n",
    "If we use mass excess values in terms of $eV$ we can ignore the $/c^2$ term (which is from Einstein's equation) and our value of $Q$ will be in $eV$.\n"
   ]
  },
  {
   "cell_type": "code",
   "execution_count": null,
   "metadata": {},
   "outputs": [],
   "source": [
    "me = 511 # keV\n",
    "Q = 4*df[\"MASS EXCESS (keV)\"][0] - df[\"MASS EXCESS (keV)\"][1] - 4*me\n",
    "Q /= 1000\n",
    "print(\"Q = \"+str(round(Q,3))+\" MeV\")"
   ]
  },
  {
   "cell_type": "markdown",
   "metadata": {},
   "source": [
    "That's a lot of energy per reaction!\n",
    "If the two positrons annihilate with two electrons in the plasma (which they most likely will) then an extra $4m_e$ of energy is produced.\n",
    "This brings the $Q$ value to:"
   ]
  },
  {
   "cell_type": "code",
   "execution_count": null,
   "metadata": {},
   "outputs": [],
   "source": [
    "# Calculate the new Q value taking into account the 4me\n",
    "# Your code here:\n",
    "Q = 4*df[\"MASS EXCESS (keV)\"][0] - df[\"MASS EXCESS (keV)\"][1]\n",
    "Q /= 1000\n",
    "print(\"Q = \"+str(round(Q,3))+\" MeV\")"
   ]
  },
  {
   "cell_type": "markdown",
   "metadata": {},
   "source": [
    "This $Q$ value is approximately $0.7\\%$ the energy of the original 4 Hydrogen atoms. We can use this fact to estimate how long the sun can shine by fusing Hydrogen only.  \n",
    "We have to assume that:\n",
    " - The sun was initially 100% Hydrogen\n",
    " - The sun can only convert the inner 10% to Helium\n",
    " \n",
    "This means only $0.007\\times 0.1\\times M_\\odot$ is converted to energy ($M_\\odot$ is the mass of the sun)."
   ]
  },
  {
   "cell_type": "code",
   "execution_count": null,
   "metadata": {},
   "outputs": [],
   "source": [
    "mSun = 1.989*10**30 # kg\n",
    "Enuclear = 0.007*(0.1*mSun)*c**2\n",
    "print(\"Total Energy from fusing Hydrogen in the Sun = {:.2e} J\".format(Enuclear))\n",
    "Lsun = 3.828*10**26 # W (J/s)\n",
    "# Divide the total energy by the energy radiated per second (the luminosity of the sun)\n",
    "tnuclear = Enuclear/Lsun # This gives us a time in seconds\n",
    "print(\"Sun's Hydrogen fusing lifetime = {:.1e} years\".format(tnuclear/3600/24/365.25))"
   ]
  },
  {
   "cell_type": "markdown",
   "metadata": {},
   "source": [
    "## Coulomb Barrier\n",
    "\n",
    "Nucleons attract each other via the strong force.  \n",
    "Charged particles repel each other via the electrostatic (also called Coulomb) force.\n",
    "\n",
    "The first stage of fusion in a star is two protons colliding. To fuse they need to overcome their repulsion.\n",
    "More precisely they need to overcome the [Coulomb Barrier](http://hyperphysics.phy-astr.gsu.edu/hbase/NucEne/coubar.html) by having a certain energy.\n",
    "\n",
    "This potential energy barrier is approximated by the [electric potential energy](https://en.wikipedia.org/wiki/Electric_potential_energy):\n",
    "\n",
    "$$V_c(r) = 14.3996\\ \\frac{Z_1Z_2e^2}{r}$$\n",
    "\n",
    "at distances greater than\n",
    "\n",
    "$$r_n \\approxeq 1.44\\times10^{-13}(A_1^{\\frac{1}{3}}+A_2^{\\frac{1}{3}})\\ cm$$\n",
    "\n",
    "Using units of $eV$ and Angstrom ($\\mathring{A} = 10^{-10}\\ m$) we get $V_c(r)$ in $eV$.\n",
    "\n",
    "The potential energy at the top of the barrier is:\n",
    "\n",
    "$$V_b \\approxeq V_c(r_n) = Z_1Z_2\\ /\\ (A_1^{\\frac{1}{3}}+A_2^{\\frac{1}{3}})\\ MeV$$\n",
    "\n",
    "At distances closer than $r_n$ the nuclei fuse and drop into the \"nuclear well\".\n",
    "\n",
    "We can visualise the barrier for two protons like this:"
   ]
  },
  {
   "cell_type": "code",
   "execution_count": null,
   "metadata": {},
   "outputs": [],
   "source": [
    "rn = 1.44*(1**(1/3)+1**(1/3)) # fm\n",
    "\n",
    "# array of distance values, find the index where r=rn\n",
    "r = np.arange(0,10.01,0.01)\n",
    "indrn = np.where(r==rn)[0][0]\n",
    "# initialise the Vc(r) array\n",
    "Vc = np.zeros(len(r))\n",
    "# for r greater than rn calculate the electric potential energy\n",
    "for i in range(indrn+1,len(r)):\n",
    "    # use the first equation from electric potential energy to complete the code below\n",
    "    # here we need to convert r to Angstrom and then divide by a million to get MeV\n",
    "    # Your code here:\n",
    "    Vc[i] = 14.3996*1*1/(i*10**(-10))\n",
    "# set the barrier potential energy at rn (last equation)\n",
    "# Your code here:\n",
    "Vb = 1*1/(1**(1/3)+1**(1/3))\n",
    "Vc[indrn] = Vb # MeV\n",
    "# set the nuclear well potential energy to the binding energy of the product (in this case deuterium)\n",
    "bEDeuterium = -1112.283/1000 # MeV\n",
    "for i in range(0,indrn):\n",
    "    # this value was taken from the mass16.csv\n",
    "    Vc[i] = bEDeuterium"
   ]
  },
  {
   "cell_type": "markdown",
   "metadata": {},
   "source": [
    "Make sure you read through the comments in the code above so you know what's happening. We have constructed an array of distances and potentials. Now lets plot them:"
   ]
  },
  {
   "cell_type": "code",
   "execution_count": null,
   "metadata": {},
   "outputs": [],
   "source": [
    "fig2 = plt.figure(2)\n",
    "plt.xlabel(\"r / fm\")\n",
    "plt.ylabel(\"Energy / MeV\")\n",
    "plt.plot(r,Vc,c=\"k\",linewidth=1)"
   ]
  },
  {
   "cell_type": "markdown",
   "metadata": {},
   "source": [
    "Great! Let's load a version that I made earlier to have a look at:"
   ]
  },
  {
   "cell_type": "code",
   "execution_count": null,
   "metadata": {},
   "outputs": [],
   "source": [
    "Image(\"ppCoulombBarrier.png\")"
   ]
  },
  {
   "cell_type": "markdown",
   "metadata": {},
   "source": [
    "You can see the potential energy increases with decreasing $r$ until the barrier energy $V_b$ at $r_n$. Then the nuclei fuse! Since the product of two protons fusing is deuterium the value of the \"nuclear well\" $U_0$ is the binding energy of deuterium (you can find this in mass16.csv).\n",
    "\n",
    "In reality quantum tunneling allows the nuclei to 'tunnel' through the peak of the barrier.\n",
    "This means they don't need as high an energy to fuse.\n",
    "Since energy is related to temperature, a lower required energy means the required temperature is also lower.  \n",
    "If it weren't for quantum tunneling the probability of fusion in our sun would be very small!\n",
    "\n",
    "# Challenge\n",
    "\n",
    "1) Recreate my Binding Energy Plot (or create the more common B/A vs A plot)  \n",
    "2) Calculate the energy released for each step of the p-p chain  \n",
    "3) Create a barrier plot for the next step of the p-p chain  \n",
    "\n",
    "Write your code below!"
   ]
  },
  {
   "cell_type": "code",
   "execution_count": null,
   "metadata": {},
   "outputs": [],
   "source": [
    "# Your code here:\n"
   ]
  },
  {
   "cell_type": "markdown",
   "metadata": {},
   "source": [
    "# References and Resources\n",
    "\n",
    "1) Atzeni, S. and Meyer-ter-Vehn, J. (2004) The Physics of Inertial Fusion, OUP, ISB: 9780198562641, Url: http://www.fisicanucleare.it/documents/0-19-856264-0.pdf  \n",
    "2) Shatz, H. (2020) The mass of a nucleus, Url: https://people.nscl.msu.edu/~schatz/PHY983_13/Lectures/mass.pdf  \n",
    "3) Mihos, C. (2020) Stars and Planets, Url: http://burro.astr.cwru.edu/Academics/Astr221/StarPhys/nuclear.html\n",
    " \n",
    "4) Nuclear Data from the Atomic Mass Data Center (AMDC) - https://www.jinaweb.org/science-research/scientific-resources/data  \n",
    "5) Table of Isotopic Masses and Natural Abundances - http://www.sophphx.caltech.edu/Physics_6/Mathematica%20Notebooks/Mass%20Spectrometer%20Exp%209/element%20data/atomic_mass_abund.pdf\n",
    "\n",
    "For 5) the data is from G. Audi, A. H. Wapstra Nucl. Phys A. 1993, 565, 1-65 and G. Audi, A. H. Wapstra Nucl. Phys A. 1995,595, 409-480.    \n",
    "For 5) the percent natural abundance data is from the 1997 report of the IUPAC Subcommittee for IsotopicAbundance Measurements by K.J.R. Rosman, P.D.P. Taylor Pure Appl. Chem.1999, 71, 1593-1607."
   ]
  }
 ],
 "metadata": {
  "kernelspec": {
   "display_name": "Python 3",
   "language": "python",
   "name": "python3"
  },
  "language_info": {
   "codemirror_mode": {
    "name": "ipython",
    "version": 3
   },
   "file_extension": ".py",
   "mimetype": "text/x-python",
   "name": "python",
   "nbconvert_exporter": "python",
   "pygments_lexer": "ipython3",
   "version": "3.7.3"
  }
 },
 "nbformat": 4,
 "nbformat_minor": 4
}
