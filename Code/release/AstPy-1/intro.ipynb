{
 "cells": [
  {
   "cell_type": "markdown",
   "metadata": {
    "deletable": false,
    "editable": false,
    "nbgrader": {
     "cell_type": "markdown",
     "checksum": "6fbf9eea8806945b10937d83d90517d2",
     "grade": false,
     "grade_id": "cell-e30fb464284816de",
     "locked": true,
     "schema_version": 3,
     "solution": false,
     "task": false
    }
   },
   "source": [
    "# Welcome to an Intro to Python"
   ]
  },
  {
   "cell_type": "markdown",
   "metadata": {
    "deletable": false,
    "editable": false,
    "nbgrader": {
     "cell_type": "markdown",
     "checksum": "0883c8f2e34322317d6b3dd91819829e",
     "grade": false,
     "grade_id": "cell-d65f45af9d05695d",
     "locked": true,
     "schema_version": 3,
     "solution": false,
     "task": false
    }
   },
   "source": [
    "## Preamble:\n",
    "\n",
    "This interactive notebook is part of a series which can be found here:\n",
    "\u000b",
    "https://github.com/DimitriosAstro/Astronomy  \n",
    "The notebook is distributed by Dimitrios Theodorakis under the GNU General Public License v3.0.\n",
    "\n",
    "Find more info at www.w3schools.com, www.python.org, www.learnpython.org  \n",
    "The Numpy section was adapted from work by Ridwan Barbhuiyan (https://github.com/rbarbhuiyan)\n",
    "\n",
    "The purpose of this Notebook is to get you ready to explore the other Notebooks which each explore a topic in Astronomy and Astrophysics using the python programing language.\n",
    "\n",
    "## Start:\n",
    "\n",
    "*Shift+Enter* on a code snippet to run the code. Most of the time you'll have to run the snippets in order or you'll get an error.\n",
    "\n",
    "If you're stuck you can consult the docs at https://docs.python.org/3/, and https://numpy.org/doc/stable/.  \n",
    "You can also get advice from www.stackoverflow.com.\n",
    "\n",
    "**Comments** - All code should be commented for readability"
   ]
  },
  {
   "cell_type": "code",
   "execution_count": null,
   "metadata": {
    "deletable": false,
    "editable": false,
    "nbgrader": {
     "cell_type": "code",
     "checksum": "9badbab6e815926492e7bfb2a6ebdba9",
     "grade": false,
     "grade_id": "cell-708d229b42c5ce94",
     "locked": true,
     "schema_version": 3,
     "solution": false,
     "task": false
    }
   },
   "outputs": [],
   "source": [
    "# This is a single line comment\n",
    "'''This is a \n",
    "multiline comment'''"
   ]
  },
  {
   "cell_type": "markdown",
   "metadata": {
    "deletable": false,
    "editable": false,
    "nbgrader": {
     "cell_type": "markdown",
     "checksum": "ddf0b4291d639f457d2d2b5a50ff5277",
     "grade": false,
     "grade_id": "cell-b9e1117abd4da778",
     "locked": true,
     "schema_version": 3,
     "solution": false,
     "task": false
    }
   },
   "source": [
    "**Variables** - Assigning a variable. The dot says we want a float (decimal) not an integer. For b we assigned a string."
   ]
  },
  {
   "cell_type": "code",
   "execution_count": null,
   "metadata": {
    "deletable": false,
    "editable": false,
    "nbgrader": {
     "cell_type": "code",
     "checksum": "e3954ac469406129cdf52aa0374b4ad9",
     "grade": false,
     "grade_id": "cell-6a4abcc26ea67363",
     "locked": true,
     "schema_version": 3,
     "solution": false,
     "task": false
    }
   },
   "outputs": [],
   "source": [
    "a = 2\n",
    "a = 2.\n",
    "b = \"Hello World!\""
   ]
  },
  {
   "cell_type": "markdown",
   "metadata": {
    "deletable": false,
    "editable": false,
    "nbgrader": {
     "cell_type": "markdown",
     "checksum": "1bff73dca8ffd9019db8c649d5d462d9",
     "grade": false,
     "grade_id": "cell-4a51a4e9a2ce4db1",
     "locked": true,
     "schema_version": 3,
     "solution": false,
     "task": false
    }
   },
   "source": [
    "**Printing** - Print a variable (or anything else) using the print() fucntion."
   ]
  },
  {
   "cell_type": "code",
   "execution_count": null,
   "metadata": {
    "deletable": false,
    "editable": false,
    "nbgrader": {
     "cell_type": "code",
     "checksum": "5a413a01daa2badea2399f925391793b",
     "grade": false,
     "grade_id": "cell-efdcd99edfd1e840",
     "locked": true,
     "schema_version": 3,
     "solution": false,
     "task": false
    }
   },
   "outputs": [],
   "source": [
    "print(b)"
   ]
  },
  {
   "cell_type": "markdown",
   "metadata": {
    "deletable": false,
    "editable": false,
    "nbgrader": {
     "cell_type": "markdown",
     "checksum": "646bc9a8ba803bd30c587e6fb7b1f114",
     "grade": false,
     "grade_id": "cell-17a208cc9645a428",
     "locked": true,
     "schema_version": 3,
     "solution": false,
     "task": false
    }
   },
   "source": [
    "**Maths** - Basic operators in python. Addition, subtraction, multiplication, division, and powers."
   ]
  },
  {
   "cell_type": "code",
   "execution_count": null,
   "metadata": {
    "deletable": false,
    "editable": false,
    "nbgrader": {
     "cell_type": "code",
     "checksum": "8a26b0b4dbfca95916887ad53c0d85b8",
     "grade": false,
     "grade_id": "cell-3c59958ecd67fa7a",
     "locked": true,
     "schema_version": 3,
     "solution": false,
     "task": false
    }
   },
   "outputs": [],
   "source": [
    "c = 2+2\n",
    "d = 2-2\n",
    "e = 2*2\n",
    "f = 2/2\n",
    "g = 2**2"
   ]
  },
  {
   "cell_type": "markdown",
   "metadata": {
    "deletable": false,
    "editable": false,
    "nbgrader": {
     "cell_type": "markdown",
     "checksum": "e695b3b75791fa3f66d47ef9b56c9ebc",
     "grade": false,
     "grade_id": "cell-2afc6d0bdc98792e",
     "locked": true,
     "schema_version": 3,
     "solution": false,
     "task": false
    }
   },
   "source": [
    "**Print Text and Numbers** - Use str() to convert the number to a string first and join the two strings together."
   ]
  },
  {
   "cell_type": "code",
   "execution_count": null,
   "metadata": {
    "deletable": false,
    "editable": false,
    "nbgrader": {
     "cell_type": "code",
     "checksum": "e0afd237da8b8a492197f5c364a868e7",
     "grade": false,
     "grade_id": "cell-bfe1f1d55709f271",
     "locked": true,
     "schema_version": 3,
     "solution": false,
     "task": false
    }
   },
   "outputs": [],
   "source": [
    "print(\"My number is: \"+str(c))"
   ]
  },
  {
   "cell_type": "markdown",
   "metadata": {
    "deletable": false,
    "editable": false,
    "nbgrader": {
     "cell_type": "markdown",
     "checksum": "f96664f5044dc9cddcf51a3edf5b63ae",
     "grade": false,
     "grade_id": "cell-3d248c51e695faef",
     "locked": true,
     "schema_version": 3,
     "solution": false,
     "task": false
    }
   },
   "source": [
    "**Lists** - A list of numbers or strings or anything else!"
   ]
  },
  {
   "cell_type": "code",
   "execution_count": null,
   "metadata": {
    "deletable": false,
    "editable": false,
    "nbgrader": {
     "cell_type": "code",
     "checksum": "4f402f80c67533e71e69264bba9e4dfd",
     "grade": false,
     "grade_id": "cell-fd384f1c8b213e59",
     "locked": true,
     "schema_version": 3,
     "solution": false,
     "task": false
    }
   },
   "outputs": [],
   "source": [
    "myList = [1,2,3,4,5]\n",
    "print(myList)"
   ]
  },
  {
   "cell_type": "markdown",
   "metadata": {
    "deletable": false,
    "editable": false,
    "nbgrader": {
     "cell_type": "markdown",
     "checksum": "ded6d18a95c9ed57a15cb89ca8c958cf",
     "grade": false,
     "grade_id": "cell-fb8c58351f6c3840",
     "locked": true,
     "schema_version": 3,
     "solution": false,
     "task": false
    }
   },
   "source": [
    "Append to the list (at the end)"
   ]
  },
  {
   "cell_type": "code",
   "execution_count": null,
   "metadata": {
    "deletable": false,
    "editable": false,
    "nbgrader": {
     "cell_type": "code",
     "checksum": "9e7b5e38b7ec9c50ed8e90593c43b6ab",
     "grade": false,
     "grade_id": "cell-5b4e6f9df8c4b274",
     "locked": true,
     "schema_version": 3,
     "solution": false,
     "task": false
    }
   },
   "outputs": [],
   "source": [
    "myList.append(6)\n",
    "print(myList)"
   ]
  },
  {
   "cell_type": "markdown",
   "metadata": {
    "deletable": false,
    "editable": false,
    "nbgrader": {
     "cell_type": "markdown",
     "checksum": "642c08411df7a6123776a5ad3725ec3a",
     "grade": false,
     "grade_id": "cell-fe22d804b822c49c",
     "locked": true,
     "schema_version": 3,
     "solution": false,
     "task": false
    }
   },
   "source": [
    "**Tuples** - These are like lists but cannot be changed once created."
   ]
  },
  {
   "cell_type": "code",
   "execution_count": null,
   "metadata": {
    "deletable": false,
    "editable": false,
    "nbgrader": {
     "cell_type": "code",
     "checksum": "5ec0d85adbbbc41cc25c99a3679a7107",
     "grade": false,
     "grade_id": "cell-2c6ed1bef678070d",
     "locked": true,
     "schema_version": 3,
     "solution": false,
     "task": false
    }
   },
   "outputs": [],
   "source": [
    "myTuple = (1,2,3,4)\n",
    "print(myTuple)"
   ]
  },
  {
   "cell_type": "markdown",
   "metadata": {
    "deletable": false,
    "editable": false,
    "nbgrader": {
     "cell_type": "markdown",
     "checksum": "71402b9b83a43e7dddfc867477cba6f7",
     "grade": false,
     "grade_id": "cell-808f525964c1ad38",
     "locked": true,
     "schema_version": 3,
     "solution": false,
     "task": false
    }
   },
   "source": [
    "**Indexing** - Access an element in a list/tuple using its index. The first element is at index 0. You can also use negative indices and select multiple elements at once using a slice."
   ]
  },
  {
   "cell_type": "code",
   "execution_count": null,
   "metadata": {
    "deletable": false,
    "editable": false,
    "nbgrader": {
     "cell_type": "code",
     "checksum": "c0d00a936f037d472d9e01bd0bb59d5b",
     "grade": false,
     "grade_id": "cell-330998c710f05930",
     "locked": true,
     "schema_version": 3,
     "solution": false,
     "task": false
    }
   },
   "outputs": [],
   "source": [
    "print(myList[0])\n",
    "print(myList[1])\n",
    "\n",
    "print(myList[-1])\n",
    "print(myList[-2])\n",
    "\n",
    "print(myList[0:3])"
   ]
  },
  {
   "cell_type": "markdown",
   "metadata": {
    "deletable": false,
    "editable": false,
    "nbgrader": {
     "cell_type": "markdown",
     "checksum": "4474b5867ef35436ea1d8bed6b0682df",
     "grade": false,
     "grade_id": "cell-ab46c07e8224a6b7",
     "locked": true,
     "schema_version": 3,
     "solution": false,
     "task": false
    }
   },
   "source": [
    "**For Loops** - A for loop will do something (in this case print()) for each element (i) in the list/tuple."
   ]
  },
  {
   "cell_type": "code",
   "execution_count": null,
   "metadata": {
    "deletable": false,
    "editable": false,
    "nbgrader": {
     "cell_type": "code",
     "checksum": "f7fa963872379b0ba575b2b17ffb83e7",
     "grade": false,
     "grade_id": "cell-3ba74aa6340d3a9d",
     "locked": true,
     "schema_version": 3,
     "solution": false,
     "task": false
    }
   },
   "outputs": [],
   "source": [
    "for i in myList:\n",
    "    print(i)"
   ]
  },
  {
   "cell_type": "markdown",
   "metadata": {
    "deletable": false,
    "editable": false,
    "nbgrader": {
     "cell_type": "markdown",
     "checksum": "65e971a0dc7550e43b72c3a1e6e803c1",
     "grade": false,
     "grade_id": "cell-1655aad0a060b60e",
     "locked": true,
     "schema_version": 3,
     "solution": false,
     "task": false
    }
   },
   "source": [
    "**Numpy Library** - A library is a set of pre-made functions that you can call on in your code.  \n",
    "The Numpy library is a very useful maths library. We can import it using the code below. The *as np* means we can just write *np* after importing instead of the full name *numpy*."
   ]
  },
  {
   "cell_type": "code",
   "execution_count": null,
   "metadata": {
    "deletable": false,
    "editable": false,
    "nbgrader": {
     "cell_type": "code",
     "checksum": "57e1ea9ae26e544ed36ad5bf40bc1c39",
     "grade": false,
     "grade_id": "cell-2904a4d85842d5df",
     "locked": true,
     "schema_version": 3,
     "solution": false,
     "task": false
    }
   },
   "outputs": [],
   "source": [
    "import numpy as np"
   ]
  },
  {
   "cell_type": "markdown",
   "metadata": {
    "deletable": false,
    "editable": false,
    "nbgrader": {
     "cell_type": "markdown",
     "checksum": "6e1e6635043437c84298e2ccae6e4bb0",
     "grade": false,
     "grade_id": "cell-9665096f40f2bbdd",
     "locked": true,
     "schema_version": 3,
     "solution": false,
     "task": false
    }
   },
   "source": [
    "**Arrays** - A numpy array is generally faster than a list."
   ]
  },
  {
   "cell_type": "code",
   "execution_count": null,
   "metadata": {
    "deletable": false,
    "editable": false,
    "nbgrader": {
     "cell_type": "code",
     "checksum": "272022a152ca356e4b9e49aa7461c813",
     "grade": false,
     "grade_id": "cell-ab4b57c42c16e3ac",
     "locked": true,
     "schema_version": 3,
     "solution": false,
     "task": false
    }
   },
   "outputs": [],
   "source": [
    "array1 = np.arange(1,11)\n",
    "print(array1)"
   ]
  },
  {
   "cell_type": "markdown",
   "metadata": {
    "deletable": false,
    "editable": false,
    "nbgrader": {
     "cell_type": "markdown",
     "checksum": "5de706dcd7bfab7c1363679b28acfd39",
     "grade": false,
     "grade_id": "cell-38a08951201a9adf",
     "locked": true,
     "schema_version": 3,
     "solution": false,
     "task": false
    }
   },
   "source": [
    "**Dtypes** - Data types include int (integers), float (decimals), lists, tuples, and arrays."
   ]
  },
  {
   "cell_type": "code",
   "execution_count": null,
   "metadata": {
    "deletable": false,
    "editable": false,
    "nbgrader": {
     "cell_type": "code",
     "checksum": "97a0a500c1cc571a65e4c72ba6aee033",
     "grade": false,
     "grade_id": "cell-59eb79de9dd9cb16",
     "locked": true,
     "schema_version": 3,
     "solution": false,
     "task": false
    }
   },
   "outputs": [],
   "source": [
    "print(type(array1))\n",
    "# notice the difference between that and the type for myList\n",
    "print(type(myList))"
   ]
  },
  {
   "cell_type": "markdown",
   "metadata": {
    "deletable": false,
    "editable": false,
    "nbgrader": {
     "cell_type": "markdown",
     "checksum": "101515e0b4d494e1b9b0844e0bf56bf3",
     "grade": false,
     "grade_id": "cell-63a6ae2c97ae661c",
     "locked": true,
     "schema_version": 3,
     "solution": false,
     "task": false
    }
   },
   "source": [
    "**For Loop on Arrays**"
   ]
  },
  {
   "cell_type": "code",
   "execution_count": null,
   "metadata": {
    "deletable": false,
    "editable": false,
    "nbgrader": {
     "cell_type": "code",
     "checksum": "d39eff6c1c74e9fd22a8bf850e636fc6",
     "grade": false,
     "grade_id": "cell-814cf1e517a24df3",
     "locked": true,
     "schema_version": 3,
     "solution": false,
     "task": false
    }
   },
   "outputs": [],
   "source": [
    "for i in array1:\n",
    "    print(i*2) # times each element by 2"
   ]
  },
  {
   "cell_type": "markdown",
   "metadata": {
    "deletable": false,
    "editable": false,
    "nbgrader": {
     "cell_type": "markdown",
     "checksum": "a0d6fae69e2597209cc28f16d11f204c",
     "grade": false,
     "grade_id": "cell-583ba6e5a406cb44",
     "locked": true,
     "schema_version": 3,
     "solution": false,
     "task": false
    }
   },
   "source": [
    "**Maths on an Array** - Operations can be performed on each element of an array."
   ]
  },
  {
   "cell_type": "code",
   "execution_count": null,
   "metadata": {
    "deletable": false,
    "editable": false,
    "nbgrader": {
     "cell_type": "code",
     "checksum": "2ec52858e058d42c8452ab4ae91c6f5e",
     "grade": false,
     "grade_id": "cell-645d6bd720767004",
     "locked": true,
     "schema_version": 3,
     "solution": false,
     "task": false
    }
   },
   "outputs": [],
   "source": [
    "array2 = array1*2\n",
    "print(array2)"
   ]
  },
  {
   "cell_type": "markdown",
   "metadata": {
    "deletable": false,
    "editable": false,
    "nbgrader": {
     "cell_type": "markdown",
     "checksum": "8cfea4514228c142166b8a3130a3235b",
     "grade": false,
     "grade_id": "cell-f73629e023d4da4e",
     "locked": true,
     "schema_version": 3,
     "solution": false,
     "task": false
    }
   },
   "source": [
    "**Linspace** - Another more controlled way of creating an array using a start, end, and number of points variables."
   ]
  },
  {
   "cell_type": "code",
   "execution_count": null,
   "metadata": {
    "deletable": false,
    "editable": false,
    "nbgrader": {
     "cell_type": "code",
     "checksum": "e74481d18e4689791738556a25bc1f68",
     "grade": false,
     "grade_id": "cell-0fc338d4cba57f9e",
     "locked": true,
     "schema_version": 3,
     "solution": false,
     "task": false
    }
   },
   "outputs": [],
   "source": [
    "start = 0\n",
    "finish = 5\n",
    "step = 0.5\n",
    "number = int((finish - start) / step) + 1\n",
    "\n",
    "array3 = np.linspace(start, finish, number)\n",
    "print(array3)"
   ]
  },
  {
   "cell_type": "markdown",
   "metadata": {
    "deletable": false,
    "editable": false,
    "nbgrader": {
     "cell_type": "markdown",
     "checksum": "6adbc7a5a2c2741a1294d120e450b9af",
     "grade": false,
     "grade_id": "cell-6954f428bee94675",
     "locked": true,
     "schema_version": 3,
     "solution": false,
     "task": false
    }
   },
   "source": [
    "**2-D Arrays** - You can create 2-D arrays by specifying a shape. Normally we initialise an array using ones or zeros then change the values inside."
   ]
  },
  {
   "cell_type": "code",
   "execution_count": null,
   "metadata": {
    "deletable": false,
    "editable": false,
    "nbgrader": {
     "cell_type": "code",
     "checksum": "d282677c0459bb5373a08d8985554d3e",
     "grade": false,
     "grade_id": "cell-d594f7422be06b38",
     "locked": true,
     "schema_version": 3,
     "solution": false,
     "task": false
    }
   },
   "outputs": [],
   "source": [
    "array4 = np.zeros((2,2))\n",
    "array5 = np.ones((2,2))\n",
    "\n",
    "print(array4)\n",
    "print(array5)\n",
    "\n",
    "# accessing a 2-D array [row, column], remember the first element is at index 0\n",
    "print(\"-----\")\n",
    "print(array4[1,1])\n",
    "\n",
    "# setting values in a 2-D array\n",
    "print(\"-----\")\n",
    "array4[1,1] = 1\n",
    "print(array4)"
   ]
  },
  {
   "cell_type": "markdown",
   "metadata": {
    "deletable": false,
    "editable": false,
    "nbgrader": {
     "cell_type": "markdown",
     "checksum": "7950711b7bd50b67e019080ebb1d0d01",
     "grade": false,
     "grade_id": "cell-f94e30e04e438e9c",
     "locked": true,
     "schema_version": 3,
     "solution": false,
     "task": false
    }
   },
   "source": [
    "**Maths with Numpy** - Numpy has very useful maths functions. We can't list them all here but you can access the number pi and compute logs easily enough."
   ]
  },
  {
   "cell_type": "code",
   "execution_count": null,
   "metadata": {
    "deletable": false,
    "editable": false,
    "nbgrader": {
     "cell_type": "code",
     "checksum": "3ea3349216ec579040c04fd4dd4e3840",
     "grade": false,
     "grade_id": "cell-1826c727d65f0b86",
     "locked": true,
     "schema_version": 3,
     "solution": false,
     "task": false
    }
   },
   "outputs": [],
   "source": [
    "print(np.pi)\n",
    "print(np.log(10))"
   ]
  },
  {
   "cell_type": "markdown",
   "metadata": {
    "deletable": false,
    "editable": false,
    "nbgrader": {
     "cell_type": "markdown",
     "checksum": "7fd192835b88d4d90d33b5b3995364ad",
     "grade": false,
     "grade_id": "cell-d090de7934978033",
     "locked": true,
     "schema_version": 3,
     "solution": false,
     "task": false
    }
   },
   "source": [
    "## Over to You\n",
    "\n",
    "**Task 1:** Create a list with these 3 foods: apple, orange, and peach. Print the list.  \n",
    "**Task 2:** Print just the third food in the list you just made.  \n",
    "**Task 3:** Create an array using arange of the numbers 1-4. Print the square of those numbers.  \n",
    "**Task 4:** Create a new 2-D array of zeros with size (3,3). Set the diagonals to 1 and print the array.\n",
    "\n",
    "Solutions can be found in the non-interactive version of this document on the main repo (see very top)."
   ]
  },
  {
   "cell_type": "code",
   "execution_count": null,
   "metadata": {
    "deletable": false,
    "nbgrader": {
     "cell_type": "code",
     "checksum": "8f36bd1531404ea8e34c1f428b94aba5",
     "grade": false,
     "grade_id": "cell-e1aef7512be7ca92",
     "locked": false,
     "schema_version": 3,
     "solution": true,
     "task": false
    }
   },
   "outputs": [],
   "source": [
    "# Task 1: Call your list fruit_list\n",
    "\n",
    "# YOUR CODE HERE\n",
    "raise NotImplementedError()"
   ]
  },
  {
   "cell_type": "code",
   "execution_count": null,
   "metadata": {
    "deletable": false,
    "nbgrader": {
     "cell_type": "code",
     "checksum": "e66b0fc249668292f0381ccda534a406",
     "grade": false,
     "grade_id": "cell-a14498ec61e8003d",
     "locked": false,
     "schema_version": 3,
     "solution": true,
     "task": false
    }
   },
   "outputs": [],
   "source": [
    "# Task 2: Print the third food\n",
    "\n",
    "# YOUR CODE HERE\n",
    "raise NotImplementedError()"
   ]
  },
  {
   "cell_type": "code",
   "execution_count": null,
   "metadata": {
    "deletable": false,
    "nbgrader": {
     "cell_type": "code",
     "checksum": "5389826330a4527a40f9c74aa5981d54",
     "grade": false,
     "grade_id": "cell-b9060d8b5ed8fbbb",
     "locked": false,
     "schema_version": 3,
     "solution": true,
     "task": false
    }
   },
   "outputs": [],
   "source": [
    "# Task 3: Create an array of the numbers 1-5 using numpy's arange funstion\n",
    "# Name your array my_array and print the square of your numbers\n",
    "\n",
    "# YOUR CODE HERE\n",
    "raise NotImplementedError()"
   ]
  },
  {
   "cell_type": "code",
   "execution_count": null,
   "metadata": {
    "deletable": false,
    "nbgrader": {
     "cell_type": "code",
     "checksum": "b67046e4984b8e13fe073e8e6ccc36af",
     "grade": false,
     "grade_id": "cell-9ac53fc5938da093",
     "locked": false,
     "schema_version": 3,
     "solution": true,
     "task": false
    }
   },
   "outputs": [],
   "source": [
    "# Task 4: 3 by 3 array of zeros with diagonals as 1's - call this array Zeros\n",
    "\n",
    "# YOUR CODE HERE\n",
    "raise NotImplementedError()"
   ]
  },
  {
   "cell_type": "code",
   "execution_count": null,
   "metadata": {
    "deletable": false,
    "editable": false,
    "nbgrader": {
     "cell_type": "code",
     "checksum": "e28fa7e443cf7572f3217002d824e20e",
     "grade": true,
     "grade_id": "cell-9fdf474ddc426569",
     "locked": true,
     "points": 2,
     "schema_version": 3,
     "solution": false,
     "task": false
    }
   },
   "outputs": [],
   "source": [
    "from nose.tools import assert_equal\n",
    "assert_equal(Zeros[0][0], 1.0)\n",
    "assert_equal(Zeros[1][0], 0.0)"
   ]
  },
  {
   "cell_type": "code",
   "execution_count": null,
   "metadata": {},
   "outputs": [],
   "source": []
  }
 ],
 "metadata": {
  "kernelspec": {
   "display_name": "Python 3",
   "language": "python",
   "name": "python3"
  },
  "language_info": {
   "codemirror_mode": {
    "name": "ipython",
    "version": 3
   },
   "file_extension": ".py",
   "mimetype": "text/x-python",
   "name": "python",
   "nbconvert_exporter": "python",
   "pygments_lexer": "ipython3",
   "version": "3.6.10"
  }
 },
 "nbformat": 4,
 "nbformat_minor": 4
}
