{
 "cells": [
  {
   "cell_type": "markdown",
   "metadata": {},
   "source": [
    "# Earth's Atmosphere\n",
    "\n",
    "© Dimitrios Theodorakis GNU General Public License v3.0 \u000b",
    "\n",
    "\n",
    "\n",
    "https://github.com/DimitriosAstro/Astronomy"
   ]
  },
  {
   "cell_type": "code",
   "execution_count": null,
   "metadata": {},
   "outputs": [],
   "source": [
    "import numpy as np\n",
    "import pandas as pd\n",
    "import matplotlib.pyplot as plt\n",
    "from IPython.display import Image\n",
    "%matplotlib inline"
   ]
  },
  {
   "cell_type": "markdown",
   "metadata": {},
   "source": [
    "### AIM - Explore the Earth's atmospheric structure and the International Standard Atmosphere (ISA) model\n",
    "\n",
    "**Predict**\n",
    "\n",
    "Have a think about these questions and make some predictions! Be sure to tell someone else what you predict.\n",
    "\n",
    "1) How does temperature vary with height in the atmosphere?  \n",
    "2) Where does the atmosphere end and space begin?  \n",
    "3) How many layers are there in the atmosphere?\n",
    "\n",
    "# Let's go: The ISA\n",
    "\n",
    "The atmosphere consists of five layers, the Troposphere, the Stratosphere, the Mesosphere, the Thermosphere, and the Exosphere. You might also see another layer mentioned online called the ionosphere which is the part of the atmosphere that is ionised. The Troposphere is where most commercial aviation occurs, the Stratosphere contains the Ozone layer, the highest clouds (Noctilucent clouds) are found in the Mesosphere, and the International Space Station orbits in the Thermosphere. \n",
    "\n",
    "The data file **int_std_atm.csv** contains data for the international standard atmosphere model. This model tells us how the temperature, denisty, pressure, and viscosity of the atmosphere change with altitude. It is a standard model of the atmosphere that measurements can be compared to. Load the model file below and use the ```head()``` function to see what's inside:"
   ]
  },
  {
   "cell_type": "code",
   "execution_count": null,
   "metadata": {},
   "outputs": [],
   "source": [
    "file = 'int_std_atm.csv'\n",
    "df = pd.read_csv(file)\n",
    "df.head()"
   ]
  },
  {
   "cell_type": "markdown",
   "metadata": {},
   "source": [
    "Notice that there are extra levels in the csv. The Tropopause is the boundary between the Troposhere and the Stratosphere and so on. $h$ is the geopotential altitude above mean sea level (MSL) and $z$ is the geometric altidude above MSL. $h$ can be thought of as a gravity adjusted altitude. Since the value of the gravitational acceleration $g$ is not constant over the surface of the Earth or as you increase your altitude we use the adjusted height to define the boundaries between layers. Think of it this way, the altitude $z$ at which the Tropopause is found changes based on your position on the Earth because $g$ is not constant. By converting to $h$ the Tropopause is at the same altitude at every point on the Earth. You can convert from one to the other by using the following equations:\n",
    "\n",
    "$$g(\\phi,z) \\approx 9.80665\\ (1-0.00259\\ cos(2\\phi))\\ (1-3.14\\times10^{-7}\\ z)$$\n",
    "\n",
    "$$h \\approx \\frac{g(\\phi,z)\\ z}{9.80665}$$\n",
    "\n",
    "The lapse rate is the decrease in temperature in degrees per kilometre. $T$ is the temperature at the base of the layer. $P$ and $rho$ are the pressure and density at the base of the layer respectively.\n",
    "\n",
    "Let's try and visualise the temperature profile of the atmosphere up to the Thermosphere using the ISA. You will need the lapse rate equation:\n",
    "\n",
    "$$T=T_o - L\\times h$$\n",
    "\n",
    "The new temperature is the base temperature $T_o$ minus the lapse rate times the geopotential altitude.\n",
    "\n",
    "Complete the code block below to construct an array of heights and an array of temperatures for each layer of the atmosphere which we will then join together:"
   ]
  },
  {
   "cell_type": "code",
   "execution_count": null,
   "metadata": {},
   "outputs": [],
   "source": [
    "# first get the h, lapse_rate, and T values from the df\n",
    "# Your code here:\n",
    "h = \n",
    "lapse = \n",
    "T = \n",
    "\n",
    "heights = []\n",
    "temps = []\n",
    "\n",
    "# construct temps from lapse rates\n",
    "# loop over the layers but not the last one which is just the Mesopause\n",
    "for i in range(len(h)-1):\n",
    "    # the res just says we want our array to go up in steps of 1 m\n",
    "    res = 1 # m - lower than 1000\n",
    "    # get the base height from h\n",
    "    # get the next base height from h\n",
    "    # Your code here:\n",
    "    base_h = \n",
    "    next_base_h = \n",
    "    # get the base temperature and the lapse rate\n",
    "    # Your code here:\n",
    "    base_T = \n",
    "    this_lapse = \n",
    "    # create an array of heights starting at base_h to next_base_h in steps of res\n",
    "    # Your code here:\n",
    "    new_heights = \n",
    "    # these next two lines set up the empty array for temperatures\n",
    "    size = len(new_heights)\n",
    "    new_temps = np.zeros((size))\n",
    "    for j in range(size):\n",
    "        # use the lapse rate equation to update the next temp\n",
    "        # hint: res*j will give you the height in metres above the base_h (don't forget to convert to km)\n",
    "        # Your code here:\n",
    "        new_temps[j] = \n",
    "    heights.append(new_heights)\n",
    "    temps.append(new_temps)\n",
    "\n",
    "all_heights = np.concatenate(heights)/1000 # now in km\n",
    "all_temps = np.concatenate(temps)\n",
    "\n",
    "fig = plt.figure(num=1, figsize=(6,10))\n",
    "ax = plt.subplot(111)\n",
    "\n",
    "ax.plot(all_temps, all_heights)\n",
    "\n",
    "ax.set_xlim(min(all_temps)-10, max(all_temps)+10)\n",
    "ax.set_ylim(min(all_heights), max(all_heights))"
   ]
  },
  {
   "cell_type": "markdown",
   "metadata": {},
   "source": [
    "Great now you have the temperature variation with altitude for the atmosphere. Notice how it cools then warms and cools again! The stratosphere contains the Ozone layer which absorbs UV radiation. This causes it to heat up. How do we know where these changes occur though? We haven't labelled the layer boundaries! Write some code below to tidy up your plot and make it easier to read. Do one or more of the following:\n",
    "\n",
    "- Add axis labels\n",
    "- Add a title\n",
    "- Add horizontal lines to show the boundaries between layers\n",
    "- Add text to the plot with the layer and boundary names\n",
    "\n",
    "One last thing to note, the ISA model does not extend into the Thermosphere or the Exosphere which is the largest layer. Here the temperature at the top of the Thermosphere (the Exobase) can reach $500\\ K$ during nightime and $1000\\ K$ during the daytime. These temperatures are so high because the densities of the Thermosphere and the Exosphere are very low (almost zero)."
   ]
  },
  {
   "cell_type": "code",
   "execution_count": null,
   "metadata": {},
   "outputs": [],
   "source": [
    "# tidy up your plot\n",
    "# you can use ax.axhline() to plot a horizontal line, ax.text() to add text and ax.set_xlabel() to set the label etc.\n",
    "# Your code here:\n",
    "\n",
    "\n"
   ]
  },
  {
   "cell_type": "markdown",
   "metadata": {},
   "source": [
    "Remember to save your plot (use ```plt.savefig()```)! Now lets look at the pressure vs altitude in the two lower levels. If you solve the hydrostatic equation, with the perfect gas law and the lapse rate equation (with a constant rate) we can get the pressure in the Troposphere. The hydrostatic equation and the perfect gas law equations are:\n",
    "\n",
    "$$\\frac{\\partial P}{\\partial h} = -\\rho g \\ ,\\ \\ \\ P = \\rho R T$$\n",
    "\n",
    "where:\n",
    "\n",
    "$P$ is pressure ($Pa$)  \n",
    "$T$ is the temperature ($K$)  \n",
    "$\\rho$ is the density ($g/m^3$)  \n",
    "$g$ is the gravitational acceleration ($9.8\\ m/s^2$)  \n",
    "$T_o$ is the standard sea level temperature ($288\\ K$)  \n",
    "$R$ is the gas constant for air ($287\\ m^2/s^2/K$)  \n",
    "$h$ is the geopotential altitude above MSL ($m$)  \n",
    "and $L$ is the lapse rate ($0.0065\\ K/m$)\n",
    "\n",
    "Notice we have to be more careful with units now and use the SI units of $K$ for temperature and the lapse rate in $K/m$.\n",
    "The pressure variation in the troposhere is then:\n",
    "\n",
    "$$\\frac{P}{P_o} = \\left( \\frac{T}{T_o}\\right) ^{\\frac{g}{LR}}$$\n",
    "\n",
    "where $P_o = 101.3\\ kPa$ is the pressure at MSL.\n",
    "\n",
    "If you solve the hydrostatic equation with a constant temperature instead of lapse rate you get the pressure variation in the stratosphere:\n",
    "\n",
    "$$\\frac{P}{P_s} = e^{\\frac{g\\ (h_s-h)}{RT_s}}$$\n",
    "\n",
    "where values with a subscript $s$ are for the Tropopause. Note since we got this equation by solving with constant temperature it is only valid for the portion of the Stratosphere which has a constant temperature (up to $\\sim 9\\ km$ above the Tropopause). If we wanted the pressure for the rest of the stratosphere we could adapt the equation we got for the pressure variation in the Troposhere but that is left as a challenge exercise for you!\n",
    "\n",
    "Complete the code block below to calculate the pressure variation in the Troposphere and the lower Stratosphere:"
   ]
  },
  {
   "cell_type": "code",
   "execution_count": null,
   "metadata": {},
   "outputs": [],
   "source": [
    "# values for you!\n",
    "g = 9.8 # m/s^2\n",
    "R = 287 # m^2/s^2/K\n",
    "To = 288 # K\n",
    "Po = 101.3 # kPa\n",
    "L = 0.0065 # K/m\n",
    "\n",
    "# create a temperature array for the troposhere starting at To and ending at 216.6\n",
    "# take the step size to be -.05 deg K\n",
    "# then use it to calculate the pressures\n",
    "# Your code here:\n",
    "T_trop = \n",
    "P_trop = \n",
    "\n",
    "h_trop = (To - T_trop)/L # altitude values for plotting using the lapse rate equation\n",
    "\n",
    "Ts = 216.65\n",
    "Ps = min(P_trop)\n",
    "hs = 11000\n",
    "\n",
    "# now create a altitude array from hs to the top of the lower Stratosphere in steps of 1 m\n",
    "# then use it to calculate the pressure in the lower Stratosphere\n",
    "# Your code here:\n",
    "h_strat = \n",
    "P_strat = "
   ]
  },
  {
   "cell_type": "markdown",
   "metadata": {},
   "source": [
    "Use the code cell below to plot your results:"
   ]
  },
  {
   "cell_type": "code",
   "execution_count": null,
   "metadata": {},
   "outputs": [],
   "source": [
    "fig = plt.figure(num=2, figsize=(6,10))\n",
    "ax = plt.subplot(111)\n",
    "\n",
    "# plot your results! maybe make the lines different colors\n",
    "# Your code here:\n",
    "ax.plot()\n",
    "ax.plot()\n",
    "\n",
    "ax.set_xlim(0, max(P_trop)+10)\n",
    "ax.set_ylim(0, max(h_strat))\n",
    "\n",
    "# give your plot axis labels and make it easier to read like before\n",
    "# Your code here:\n",
    "\n",
    "\n"
   ]
  },
  {
   "cell_type": "markdown",
   "metadata": {},
   "source": [
    "Again don't forget to save your figure. Notice the pressure drops dramatically in the Troposhere and the pressure is almost zero by the time you get to the top of the Stratosphere (which remember isn't shown here but I challenge you to calculate and plot the rest of the pressures).\n",
    "\n",
    "Using the perfect gas law you can calculate the density variation with altitude (if you know the temperature and pressure). Complete the following code block to calculate the density variation with altitude for the Troposhere:"
   ]
  },
  {
   "cell_type": "code",
   "execution_count": null,
   "metadata": {},
   "outputs": [],
   "source": [
    "# Your code here:\n",
    "rho_trop = \n",
    "\n",
    "# set up a new figure and axis\n",
    "fig = \n",
    "ax = \n",
    "\n",
    "ax.plot(rho_trop, h_trop, 'green')\n",
    "\n",
    "ax.set_xlim(0, max(rho_trop)+.1)\n",
    "ax.set_ylim(0, max(h_trop))\n",
    "\n",
    "# give your plot axis labels and make it easier to read like before\n",
    "# Your code here:\n",
    "\n",
    "\n"
   ]
  },
  {
   "cell_type": "markdown",
   "metadata": {},
   "source": [
    "You should see the density drops rapidly. At an altitude of $5.5\\ km$ you are above fifty percent of the atmosphere, at $16\\ km$ you are above ninety percent of the atmosphere! Finally let's calculate the speed of sound and see how it varies with altitude. The speed of sound equation is:\n",
    "\n",
    "$$a = \\sqrt{\\gamma R T}$$\n",
    "\n",
    "where $\\gamma$ is the ratio of specific heats of air and is equal to $1.4$. Complete the code block below to calculate the speed for the first three layers (similar to the first plot):"
   ]
  },
  {
   "cell_type": "code",
   "execution_count": null,
   "metadata": {},
   "outputs": [],
   "source": [
    "# use the all_temps array but convert it to Kelvin first (+273.15)\n",
    "# Your code here:\n",
    "a = \n",
    "\n",
    "fig = \n",
    "ax = \n",
    "\n",
    "ax.plot()\n",
    "\n",
    "ax.set_xlim(min(a)-10, max(a)+10)\n",
    "ax.set_ylim(min(all_heights), max(all_heights))\n",
    "\n",
    "# tidy up the plot and make it more readable\n",
    "# Your code here:\n",
    "\n",
    "\n"
   ]
  },
  {
   "cell_type": "markdown",
   "metadata": {},
   "source": [
    "Again when you're ready save your plot. If you haven't already check out the Planetary Atmospheres activity to learn about the chemical composition of the atmosphere and the Planetary Interiors activity to show you how to plot a scale figure of the Earth including the atmospheric layers.\n",
    "\n",
    "You might also like to read [this](https://climate.nasa.gov/news/2919/earths-atmosphere-a-multi-layered-cake/) NASA article on the atmosphere which describes each layer, what forms/travels in it, and discusses the Karman line (the point where the atmosphere is defined to have ended) and the particle cloud that extends past it!\n",
    "\n",
    "# Challenge\n",
    "\n",
    "1) Calculate the Pressure and Density to the top of the Mesosphere and plot them.  \n",
    "2) Make your plots more readable - check out one of mine by loading it in the last cell block.  \n",
    "3) Correct the air density based on humidity see [here](http://www-mdp.eng.cam.ac.uk/web/library/enginfo/aerothermal_dvd_only/aero/atmos/atmos.html).\n",
    "\n",
    "# References\n",
    "\n",
    "AMS - Geopotential Height [http://glossary.ametsoc.org/wiki/Geopotential_height](http://glossary.ametsoc.org/wiki/Geopotential_height)  \n",
    "Mick Pope - Geopotential Height [https://www.youtube.com/watch?v=doQUsfrxV_Q](https://www.youtube.com/watch?v=doQUsfrxV_Q)  \n",
    "AMS - Acceleration due to Gravity [http://glossary.ametsoc.org/wiki/Acceleration_of_gravity](http://glossary.ametsoc.org/wiki/Acceleration_of_gravity)  \n",
    "AMME, Univeristy of Sydney (2006) Properties of the Atmosphere [http://www-mdp.eng.cam.ac.uk/web/library/enginfo/aerothermal_dvd_only/aero/atmos/atmos.html](http://www-mdp.eng.cam.ac.uk/web/library/enginfo/aerothermal_dvd_only/aero/atmos/atmos.html)  \n",
    "ISA (wikipedia) [https://en.wikipedia.org/wiki/International_Standard_Atmosphere](https://en.wikipedia.org/wiki/International_Standard_Atmosphere)  \n",
    "Solar Center, Stanford - Solar Flares and the Ionosphere [http://solar-center.stanford.edu/SID/activities/ionosphere.html](http://solar-center.stanford.edu/SID/activities/ionosphere.html)  \n",
    "North Carolina Climate Office - Structure of the Atmosphere [https://climate.ncsu.edu/edu/Structure](https://climate.ncsu.edu/edu/Structure)  \n",
    "NASA, Earth's Atmosphere: A multi-layered cake [https://climate.nasa.gov/news/2919/earths-atmosphere-a-multi-layered-cake/](https://climate.nasa.gov/news/2919/earths-atmosphere-a-multi-layered-cake/)"
   ]
  },
  {
   "cell_type": "code",
   "execution_count": null,
   "metadata": {},
   "outputs": [],
   "source": [
    "Image('int_std_atm.png')"
   ]
  }
 ],
 "metadata": {
  "kernelspec": {
   "display_name": "Python 3",
   "language": "python",
   "name": "python3"
  },
  "language_info": {
   "codemirror_mode": {
    "name": "ipython",
    "version": 3
   },
   "file_extension": ".py",
   "mimetype": "text/x-python",
   "name": "python",
   "nbconvert_exporter": "python",
   "pygments_lexer": "ipython3",
   "version": "3.6.10"
  }
 },
 "nbformat": 4,
 "nbformat_minor": 4
}
