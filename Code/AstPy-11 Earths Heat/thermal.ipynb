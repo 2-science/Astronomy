{
 "cells": [
  {
   "cell_type": "markdown",
   "metadata": {},
   "source": [
    "# Earth's Heat\n",
    "\n",
    "© Dimitrios Theodorakis GNU General Public License v3.0 \u000b",
    "\n",
    "\n",
    "https://github.com/DimitriosAstro/Astronomy"
   ]
  },
  {
   "cell_type": "code",
   "execution_count": null,
   "metadata": {},
   "outputs": [],
   "source": [
    "import numpy as np\n",
    "import pandas as pd\n",
    "import matplotlib.pyplot as plt\n",
    "from mpl_toolkits.axes_grid1.inset_locator import inset_axes\n",
    "from IPython.display import Image"
   ]
  },
  {
   "cell_type": "markdown",
   "metadata": {},
   "source": [
    "### AIM - Explore the Earth's thermal gradient, describe how heat is transferred and where it's from, perform simple thermal calculations\n",
    "\n",
    "**Predict**\n",
    "\n",
    "Have a think about these questions and make some predictions! Be sure to tell someone else what you predict.\n",
    "\n",
    "1) How hot is the Earth's interior?  \n",
    "2) Where does this thermal energy come from?  \n",
    "3) How does the heat get transferred throughout the Earth?  \n",
    "\n",
    "# Let's go: The Geotherm\n",
    "\n",
    "The geotherm or geothermal gradient is the temperature of the Earth vs depth. In this notebook you will approximate the lithosphere's geothermal gradient numerically and plot the entire gradient with data stored in **geotherm.csv**. Finally you'll perform simple thermal calculations related to heat transfer.\n",
    "\n",
    "You can calculate the geothermal gradient for the listhosphere using the following equations:\n",
    "\n",
    "$$T(z)=Qz/K +A_0z(b-z/2)/K+T_s,\\ \\ \\ \\ z<b$$\n",
    "\n",
    "$$T(z)=Qz/K+A_0b^2/(2K)+T_s,\\ \\ \\ \\ b\\leq z\\leq L \\ \\ where\\ \\ L=100\\ km$$\n",
    "\n",
    "Here $T_s$ is the surface temperature in degrees Celcius, $Q$ is the mantle heat flow ($mW/m^2$), $K$ is the thermal conductivity ($W/m/^{\\circ}$), $A_0=\\rho H_s$ is the heat production ($\\mu W/m^3$), $b$ the characteristic depth of $A_0$ ($km$), and $z$ the depth in $km$. Typical values are given in the code block below. \n",
    "\n",
    "Use these equations to complete the code below and plot the geotherm for the lithosphere:"
   ]
  },
  {
   "cell_type": "code",
   "execution_count": null,
   "metadata": {},
   "outputs": [],
   "source": [
    "# Typical values\n",
    "Ts = 15 # surface temp (deg C)\n",
    "Q = 30 # mantle heat flow (mW/m^2)\n",
    "K = 2.5 # thermal conductivity (W/m/deg)\n",
    "Ao = 2.0 # heat production (microW/m^3)\n",
    "b = 10 # characteristic depth of Ao (km)\n",
    "\n",
    "# Your code here:\n",
    "z = np.arange(0,100,.1)\n",
    "T = []\n",
    "\n",
    "for i in z:\n",
    "    if i < b:\n",
    "        T.append()\n",
    "    else:\n",
    "        T.append()\n",
    "\n",
    "fig = plt.figure(num=1, figsize=(6, 10))\n",
    "\n",
    "\n",
    "# plot an inset axis showing only the first 35 km\n",
    "axins = inset_axes(plt.gca(), width=\"40%\", height=\"40%\")\n",
    "axins.plot(T, -z)\n",
    "axins.set_ylim(-35, 0)\n",
    "axins.set_xlim(0, 800)"
   ]
  },
  {
   "cell_type": "markdown",
   "metadata": {},
   "source": [
    "You should see two gradients/sections to your plot, one above $b$ and one below $b$. Try answering the following questions:\n",
    "\n",
    "1) Try changing $b$, what does it do?\n",
    "\n",
    "2) By changing some of the model parameters get a temperature of $700^{\\circ}C$ at $35\\ km$. Is there only one way of doing it? Which parameters do you think we know best?\n",
    "\n",
    "3) These equations assume that the heat flow is by conduction only? Is that a valid assumption and why?\n",
    "\n",
    "So you have time to think I have placed some answers/thoughts to these questions at the end of the notebook just before the challenges section.\n",
    "\n",
    "Let's now take a look at the geotherm for all the layers of the Earth. Complete the code blocks below to load in the data and plot depth versus temperature:"
   ]
  },
  {
   "cell_type": "code",
   "execution_count": null,
   "metadata": {},
   "outputs": [],
   "source": [
    "# Your code here:\n",
    "file = 'geotherm.csv'\n",
    "df = \n",
    "df.head()"
   ]
  },
  {
   "cell_type": "code",
   "execution_count": null,
   "metadata": {},
   "outputs": [],
   "source": [
    "# notice we have no z and here T is in Kelvin\n",
    "# create two new columns one of z by taking the radius of Earth (~6371 km) away from r\n",
    "# and a Tdeg column by converting T in Kelvin to degrees (273.15 K = 0 deg C)\n",
    "# Your code here:\n",
    "df['z'] = \n",
    "df['Tdeg'] = \n",
    "df.head()"
   ]
  },
  {
   "cell_type": "code",
   "execution_count": null,
   "metadata": {},
   "outputs": [],
   "source": [
    "# now plot Tdeg vs z\n",
    "# Your code here:\n",
    "fig2 = plt.figure(num=2, figsize=(6, 10))\n",
    "ax = plt.subplot(111)\n"
   ]
  },
  {
   "cell_type": "markdown",
   "metadata": {},
   "source": [
    "Take a few minutes to tidy up your plots as you see fit and save them: "
   ]
  },
  {
   "cell_type": "code",
   "execution_count": null,
   "metadata": {},
   "outputs": [],
   "source": [
    "# Make any cosmetic changes to your plots you think is necessary and then save them\n",
    "# Your code here:\n"
   ]
  },
  {
   "cell_type": "markdown",
   "metadata": {},
   "source": [
    "What temperature does the Earth's core reach? Where are there big changes in the geotherm?\n",
    "\n",
    "To help us answer those questions let's load this figure made with **thermal.py**:"
   ]
  },
  {
   "cell_type": "code",
   "execution_count": null,
   "metadata": {},
   "outputs": [],
   "source": [
    "Image('geotherm.png')"
   ]
  },
  {
   "cell_type": "markdown",
   "metadata": {},
   "source": [
    "Notice how there appear to be significant changes at the lithosphere-athenosphere boundary and at the core-mantle boundary. You might now be asking yourself if the interior is so hot how come only the outer core is liquid? Although the temperature is increasing so does the pressure! This increase in pressure keeps the material solid until the inner core where the temp increase is enough to melt the material despite the high pressure. There is pressure data alongside the original temperature data in **geotherm_original.csv** which you can plot if you're curious.\n",
    "\n",
    "## Transferring Heat\n",
    "\n",
    "We know that there are three ways of transferring heat. Conduction, convection, and radiation. Conduction occurs throughout the solid layers of the Earth and convection occurs in the outer core and the mantle.\n",
    "\n",
    "### Conduction\n",
    "\n",
    "Conduction is the transfer of thermal energy between solids. You can work out the heat (energy transferred) using the equation:\n",
    "\n",
    "$$Q=mc\\Delta T$$\n",
    "\n",
    "where $Q$ is the heat in $J$, $m$ is the mass of the material in $kg$, $c$ is the thermal heat capacity of the material (the energy needed to raise the temperature of one kilogram of the material by one degree) in $J/kg/K$, and $\\Delta T$ is the change in temperature.\n",
    "\n",
    "Use this equation to calculate the energy needed to raise $1\\ kg$ of mantle material from the temperature at the top of the mantle to the temperature at the bottom of the mantle (assume const P and no phase changes occur). Compare the value to the energy needed to boil the same mass of water. Useful values are given in the code block below:"
   ]
  },
  {
   "cell_type": "code",
   "execution_count": null,
   "metadata": {},
   "outputs": [],
   "source": [
    "# water 4180 J/kg/K\n",
    "# iron 447\n",
    "# olivine 815\n",
    "# mantle 1260\n",
    "# rock typical 700\n",
    "# periclase (MgO) 924\n",
    "\n",
    "# Energy needed to raise 1 kg of mantle material from temp top mantle to temp bottom\n",
    "# (assume const P and no phase change)\n",
    "# you will have to hover over your graph to get the temp change\n",
    "# Your code here:\n",
    "E = \n",
    "print(E) # MJ - divide by 10**6 to get MJ not J\n",
    "\n",
    "# Compare to the energy needed to boil water from room temp (1kg)\n",
    "# Your code here:\n",
    "Ew = \n",
    "print(Ew) # MJ"
   ]
  },
  {
   "cell_type": "markdown",
   "metadata": {},
   "source": [
    "Notice how water has such a high heat capacity! You need $0.418\\ MJ$ of energy to make around five cups of tea.\n",
    "\n",
    "### Thermal Conductivity\n",
    "\n",
    "Another useful property to consider is a materials thermal conductivity or how easily heat flows through the material. We can calculate it with the equation: \n",
    "\n",
    "$$Q=k\\frac{\\delta T}{\\delta z}$$\n",
    "\n",
    "where $Q$ this time is the rate of heat transfer in $W/m^2$, $k$ is the thermal conductivity in $W/mK$, and $\\frac{\\delta T}{\\delta z}$ is the change in temperature over the change in depth (which is the geothermal gradient between two points). Some vales of $k$ are provided in the code block below. Use them to calculate the rate of heat transfer in the upper mantle and then the lower mantle. Compare the two values."
   ]
  },
  {
   "cell_type": "code",
   "execution_count": null,
   "metadata": {},
   "outputs": [],
   "source": [
    "# diamond 1600 W/mK\n",
    "# sed rock 1.2 - 4.2\n",
    "# granite 2.4 - 3.8\n",
    "# basalt 1.3 - 2.9\n",
    "# upper mantle 6.7\n",
    "# lower mantle 20\n",
    "\n",
    "# Calc therm gradient in upper mantle (take gradient in athenosphere)\n",
    "# Then calc the thermal conductivity \n",
    "# Do same for lower mantle (mesosphere) and compare\n",
    "# again you will need to hover over your figure you made earlier to read off T and z values\n",
    "# Your code here:\n",
    "ThermC_Upper = \n",
    "\n",
    "print(ThermC_Upper)\n",
    "\n",
    "ThermC_Lower = \n",
    "\n",
    "print(ThermC_Lower)"
   ]
  },
  {
   "cell_type": "markdown",
   "metadata": {},
   "source": [
    "Here the rate of heat transfer in the lower mantle is three times that of the upper mantle. Take this result with a pinch of salt though. There are large uncertainties to the temperatures within the Earth and taking the gradient from your graph would have been hard because the geotherm is not a straight line. Particularly towards the bottom of the lower mantle/mesosphere where you enter the D\" region which is shown as a dashed grey line in the figure we loaded.\n",
    "\n",
    "### Advection and Latent Heat\n",
    "\n",
    "When advection occurs the molten rock will eventualy cool and form a solid. This phase change can release energy to the surroundings heating it up. We can calculate the heat transferred using this equation:\n",
    "\n",
    "$$Q = mL$$\n",
    "\n",
    "where $Q$ is heat like in our conduction equation, $m$ the mass, and $L$ the latent heat. There are two types of latent heat. The latent heat of fusion, $L_f$, (liquid to solid) and the latent heat of vaporisation, $L_v$, (solid to gas). Of course $L_f$ is also used for calculations involving solids turning to liquids, ie it doesn't matter which way around the phase transition is happening.\n",
    "\n",
    "Let's imagine $5 \\ kg$ of lava in Hawaii solidifies to basalt as it cools. Work out how much energy is released using the equation above. Then calculate the energy needed to melt $5 \\ kg$ of iron at the core-mantle boundary. Compare the two values."
   ]
  },
  {
   "cell_type": "code",
   "execution_count": null,
   "metadata": {},
   "outputs": [],
   "source": [
    "# Water to ice 335 kJ/kg\n",
    "# Molten Fe to Solid Fe 275\n",
    "# Basalt (Hawaii) 400\n",
    "\n",
    "# Energy released when lava cools to basalt (5 kg volcanic bomb)\n",
    "# Your code here:\n",
    "E_lav_bas = \n",
    "print(E_lav_bas)\n",
    "\n",
    "# Can you work out energy needed to melt Fe (5 kg) at the core mantle boundary?\n",
    "# Your code here:\n",
    "E_fe_melt = \n",
    "print(E_fe_melt)"
   ]
  },
  {
   "cell_type": "markdown",
   "metadata": {},
   "source": [
    "The $5 \\ kg$ of lava solidifying releases more energy than is required to melt iron! Of course we are ignoring the massive pressure difference between these two scenarios. The energy released from our cooling lava will be much larger than we calculated since we ignored the cooling before and after the phase change.\n",
    "\n",
    "### Convection\n",
    "\n",
    "Convection cannot be easily described with simple equations like the ones above. Complex fluid equations often have to be solved numerically with special libraries dedicated to solving the equations. As a challenge you can look up the Rayleigh number and calculate it for the mantle and the crust. A high Rayleigh number indicates convection can occur.\n",
    "\n",
    "## Answers\n",
    "\n",
    "1) Try changing $b$ what does it do? \n",
    "\n",
    "$b$ is the characteristic depth of radioactive elements in the crust which produce heat as they decay (this is in fact the primary heat source for the Earth, the other being heat left over from when the Earth formed). Radioactive elements such as thorium and uranium are lithophile elements which tend to move out of a partially molten mantle into the crust within igneous rocks.\n",
    "\n",
    "Notice how increasing the depth at which we find these radioactive elements increases the temperature of the lithosphere.\n",
    "\n",
    "2) By changing some of the model parameters get a temperature of $700^{\\circ}C$ at $35\\ km$. Is there one way of doing it? Which parameters do you think we know best?\n",
    "\n",
    "Most crustal rocks will start melting at $700^{\\circ}C$. The geothermal gradient is not uniform over the Earth at the same depth. The geotherm at the boundary of tectonic plates and the geotherm in the middle of a continent away from hot spots are going to be very different. A region of higher tectonic activity will have a quicker increase in temperature with depth.\n",
    "\n",
    "You should have been able to get $700^{\\circ}C$ a variety of ways. Increasing the mantle heat flow $Q$ for instance as if this point was at a region of tectonic activity or a hot spot. It is far easier to get accurate values for surface temperature and the thermal conductivity of the rock than it is the mantle heat flow.\n",
    "\n",
    "3) These equations assume that the heat flow is by conduction only? Is that a valid assumption and why?\n",
    "\n",
    "Yes! The lithosphere is rigid so heat flow is primarily via conduction. However in regions of higher tectonic activity or where island arcs are forming heat flow from advection needs to be considered. Advection is heat transfer from a moving body of fluid in this case magma. This magma can rise into the lithosphere and cool to become an intrusive igneous formation called a pluton. When it cools it transfers thermal energy to the surounding lithosphere.\n",
    "\n",
    "# Challenge\n",
    "\n",
    "1) Use structure.csv to recreate my figure of the geotherm that we loaded earlier (use structure.csv to plot the layers).  \n",
    "2) Calculate the Rayleigh number for the mantle (and possibly the crust).  \n",
    "3) Simulate conduction from the mantle to a rigid lithosphere using Newton's Law of Cooling (see an example with a teacup [here](http://greenteapress.com/modsimpy/ModSimPy3.pdf) - some beginning guidance is in **thermal.py**).\n",
    "\n",
    "# References\n",
    "\n",
    "Cameron Davidson - Geothermal Gradients Activity [https://serc.carleton.edu/NAGTWorkshops/petrology/teaching_examples/24418.html](https://serc.carleton.edu/NAGTWorkshops/petrology/teaching_examples/24418.html)  \n",
    "John Merck - Sources and movement of heat within planets [https://www.geol.umd.edu/~jmerck/geol212/lectures/10.html](https://www.geol.umd.edu/~jmerck/geol212/lectures/10.html)  \n",
    "Marcus Bursik - The Earth's Heat and Temperature [http://www.glyfac.buffalo.edu/mib/class/325/Lecture/14/1401Thermal/thermal.html](http://www.glyfac.buffalo.edu/mib/class/325/Lecture/14/1401Thermal/thermal.html)  \n",
    "Professor Bob Downs, University of Arizona, [https://www.geo.arizona.edu/xtal/geos306/fall06-10.htm](https://www.geo.arizona.edu/xtal/geos306/fall06-10.htm)  \n",
    "Antoine Rozel - Thermal Structure of the Earth [http://jupiter.ethz.ch/~gfdteaching/dymali/2017/downloads/dymali-Lecture1-ThermalStructure.pdf](http://jupiter.ethz.ch/~gfdteaching/dymali/2017/downloads/dymali-Lecture1-ThermalStructure.pdf)\n",
    "\n",
    "# Acknowledgements\n",
    "\n",
    "Thanks to [Cameron Davidson](https://apps.carleton.edu/profiles/cdavidso/) for help understanding his geothermal gradients activity and answering all my questions."
   ]
  }
 ],
 "metadata": {
  "kernelspec": {
   "display_name": "Python 3",
   "language": "python",
   "name": "python3"
  },
  "language_info": {
   "codemirror_mode": {
    "name": "ipython",
    "version": 3
   },
   "file_extension": ".py",
   "mimetype": "text/x-python",
   "name": "python",
   "nbconvert_exporter": "python",
   "pygments_lexer": "ipython3",
   "version": "3.6.10"
  }
 },
 "nbformat": 4,
 "nbformat_minor": 4
}
