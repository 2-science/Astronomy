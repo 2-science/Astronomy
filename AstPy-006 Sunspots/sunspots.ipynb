{
 "cells": [
  {
   "cell_type": "markdown",
   "metadata": {},
   "source": [
    "# Sunspots\n",
    "\n",
    "© Dimitrios Theodorakis GNU General Public License v3.0 https://github.com/DimitriosAstro/Astronomy\n",
    "\n",
    "**Note** - Some of the code will take up to a minute to run. Be patient!"
   ]
  },
  {
   "cell_type": "code",
   "execution_count": null,
   "metadata": {},
   "outputs": [],
   "source": [
    "import numpy as np\n",
    "from math import degrees\n",
    "from IPython.display import Image\n",
    "import sunpy.map\n",
    "from sunpy.net import Fido, attrs as a\n",
    "from ipywidgets import interact, interactive, fixed, interact_manual\n",
    "import ipywidgets as widgets\n",
    "import astropy.units as u\n",
    "from astropy.utils.exceptions import AstropyWarning\n",
    "import warnings\n",
    "warnings.simplefilter('ignore', category=AstropyWarning)\n",
    "import matplotlib.pyplot as plt\n",
    "import matplotlib.patches as patches\n",
    "%matplotlib notebook\n",
    "plt.ioff()"
   ]
  },
  {
   "cell_type": "markdown",
   "metadata": {},
   "source": [
    "### AIM - To measure the sun's rotation period using sunspots and visualise our results\n",
    "\n",
    "**Predict**\n",
    "\n",
    "Have a think about these questions and make some predictions! Be sure to tell someone else what you predict.\n",
    "\n",
    "1) How fast do you think the sun rotates?  \n",
    "2) Does it rotate at the same speed all over its surface?  \n",
    "3) How could we use sunpots in a series of images to calculate the sun's rotation period?\n",
    "\n",
    "## Let's go:\n",
    "\n",
    "In this notebook we are going to look at sunspots and use them to measure the rotation period for the sun. To do this we will need images of the photosphere which we can get using SunPy. We need HMI continuum images and the code below selects twelve to download for use to use. The images are each twelve hours apart."
   ]
  },
  {
   "cell_type": "code",
   "execution_count": null,
   "metadata": {},
   "outputs": [],
   "source": [
    "results = Fido.search(a.Time('2015/05/05 12:00', '2015/05/11 12:00'),a.Instrument('HMI'),\n",
    "                      a.vso.Sample(0.5*u.day),a.vso.Physobs(\"intensity\"))\n",
    "files = Fido.fetch(results, path=\"./images/\")\n",
    "\n",
    "# sort the file names alphabetically using the python function sorted\n",
    "# Your code here:\n",
    "files = \n",
    "\n",
    "results"
   ]
  },
  {
   "cell_type": "markdown",
   "metadata": {},
   "source": [
    "Now we have twelve images of the sun from the HMI instrument on the SDO (Solar Dynamics Observatory) telescope to use. Let's look at the first image using matplotlib's ```imshow()```:"
   ]
  },
  {
   "cell_type": "code",
   "execution_count": null,
   "metadata": {},
   "outputs": [],
   "source": [
    "# load a sunpy Map from the first file in files (remember python indexes start at 0)\n",
    "# Hint: Use sunpy.map.Map()\n",
    "# Your code here:\n",
    "smap = \n",
    "\n",
    "smap = smap.resample((1024, 1024) * u.pix)\n",
    "smap = smap.rotate(order=3)\n",
    "fig = plt.imshow(smap.data, cmap='Greys_r', origin='lower')\n",
    "plt.axis('off')\n",
    "plt.show()"
   ]
  },
  {
   "cell_type": "markdown",
   "metadata": {},
   "source": [
    "Wow! You should now have an interactive image of the sun. Notice we shrunk the image by a factor of 4 using resample and rotated it so it looks like the view from Earth. Sunspots are dynamic objects which change in size and shape. Lets load an animation of sun from the images we downloaded. You can see that some sunspots last longer than others and they all have a unique shape. The amount of sunspots varies with the 11 year solar cycle which we saw in the Solar Images notebook."
   ]
  },
  {
   "cell_type": "code",
   "execution_count": null,
   "metadata": {},
   "outputs": [],
   "source": [
    "Image('./figures/sunspots.gif')"
   ]
  },
  {
   "cell_type": "markdown",
   "metadata": {},
   "source": [
    "By tracking the motion of sunspots over the surface of the sun we can work out the sun's rotation period. To do this we need the x and y positions of a few sunspots. The widget below will let you cycle through the set of images we download and make interactive plots of them. Find three sunspots that persist for at least 6 images. Hover over the first sunspot in the first image you chose and put the x and y coordinate into the numpy array ```sunspot1``` below. Do the same for the other sunspots (put their coordinates into ```sunspot2``` and ```sunspot3``` respectively). Move to the next image and find the same sunspots. Again hover over the image and add the new x and y positions to the correct numpy array."
   ]
  },
  {
   "cell_type": "code",
   "execution_count": null,
   "metadata": {},
   "outputs": [],
   "source": [
    "# will take a minute\n",
    "smaps = [((sunpy.map.Map(file)).resample((1024, 1024) * u.pix)).rotate(order=3) for file in files]"
   ]
  },
  {
   "cell_type": "code",
   "execution_count": null,
   "metadata": {},
   "outputs": [],
   "source": [
    "def map_gen(i):\n",
    "    fig = plt.imshow(smaps[i-1].data, cmap='Greys_r', origin='lower')\n",
    "    plt.axis('off')\n",
    "    plt.show()\n",
    "    \n",
    "interactive_map = interactive(map_gen, i=widgets.ToggleButtons(\n",
    "    options=[1,2,3,4,5,6,7,8,9,10,11,12],\n",
    "    value=1, description='File:', disabled=False)) \n",
    "interactive_map"
   ]
  },
  {
   "cell_type": "code",
   "execution_count": null,
   "metadata": {},
   "outputs": [],
   "source": [
    "# your full arrays should look like this:\n",
    "# sunspot = np.array([[399 , 422],[453 , 424],[506 , 425],[559 , 424],[613 , 421],[666 , 419]])\n",
    "# Your code here:\n",
    "sunspot1 = \n",
    "sunspot2 = \n",
    "sunspot3 = \n",
    "sunspots = [sunspot1, sunspot2, sunspot3]"
   ]
  },
  {
   "cell_type": "markdown",
   "metadata": {},
   "source": [
    "Now you have the pixel positions of three sunspots from your images you can work out the rotation period of the sun! You'll need to know some maths first!  \n",
    "\n",
    "The motion of a sunspot across the face of the sun is shown in the image below. If you plot the displacement of the sunspot's x coordinate from the centre of the sun against time you get a sine curve! The realtionship between the x displacement and time is:\n",
    "\n",
    "$$x = A sin(\\frac{2\\pi}{T}t)$$\n",
    "\n",
    "where A is the maximum displacement of a sunspot at that solar latitude from the centre of the disk, and T is the rotation period. This maths is visualised further in the theorySunspots notebook."
   ]
  },
  {
   "cell_type": "code",
   "execution_count": null,
   "metadata": {},
   "outputs": [],
   "source": [
    "Image('./figures/theorySunspotsPath.png')"
   ]
  },
  {
   "cell_type": "markdown",
   "metadata": {},
   "source": [
    "If we re-arrange our equation to get $T$ out of the sin we get:\n",
    "\n",
    "$$arcsin(x/A) = \\frac{2\\pi}{T}t$$\n",
    "\n",
    "By plotting $arcsin(x/A)$ against $t$ we can find the gradient $m$ which is equal to $\\frac{2\\pi}{T}$. Rearranging this gives us:\n",
    "\n",
    "$$T = \\frac{2\\pi}{m}$$\n",
    "\n",
    "Before we do the calculation we need A for each sunspot. We can get the average y value for each sunspot like this:"
   ]
  },
  {
   "cell_type": "code",
   "execution_count": null,
   "metadata": {},
   "outputs": [],
   "source": [
    "y_avg = [np.mean(sunspot[:,1]) for sunspot in sunspots]\n",
    "# y_avg returned some decimals but pixel positions are integers - turn the y_avg values into integers below\n",
    "# Your code here:\n"
   ]
  },
  {
   "cell_type": "markdown",
   "metadata": {},
   "source": [
    "For each ```y_avg``` value go to any of the interactive images above and hover until you find that y value. Move to the right edge of the disk and read off the x value (make sure the y value hasn't changed). Put this in the array ```A``` below."
   ]
  },
  {
   "cell_type": "code",
   "execution_count": null,
   "metadata": {},
   "outputs": [],
   "source": [
    "# Here we take 512 off these x positions to get the max displacement A from the centre of the sun\n",
    "A = np.array([ 982, 971, 977])-512\n",
    "A"
   ]
  },
  {
   "cell_type": "markdown",
   "metadata": {},
   "source": [
    "Before we do our calculation and plot we have to remember we want the displacement in x and y from the centre of the sun. We have read off the pixel coordinates from our images. To get the displacements we need to take half the image width off the x and y positions."
   ]
  },
  {
   "cell_type": "code",
   "execution_count": null,
   "metadata": {},
   "outputs": [],
   "source": [
    "# calculate the displacements in x and y by subtracting 512 from each x and y sunspot array\n",
    "# Your code here:\n",
    "sunspots_disp = \n",
    "\n",
    "sunspots_disp"
   ]
  },
  {
   "cell_type": "markdown",
   "metadata": {},
   "source": [
    "Now we can calculate the $arcsin(x/A)$ and make our first plot of $arcsin(x/A)$ vs $t$."
   ]
  },
  {
   "cell_type": "code",
   "execution_count": null,
   "metadata": {},
   "outputs": [],
   "source": [
    "arcsinxA = [np.arcsin(sunspots_disp[i][:,0]/A[i]) for i in range(len(sunspots))]\n",
    "\n",
    "# create an array of times from 0 to 60 hours with the same number of points (6) as arcsinxA\n",
    "# Your code here:\n",
    "t = "
   ]
  },
  {
   "cell_type": "code",
   "execution_count": null,
   "metadata": {},
   "outputs": [],
   "source": [
    "fig1 = plt.figure(num=1, figsize=(5, 5))\n",
    "ax1 = fig1.add_subplot(111)\n",
    "ax1.scatter(t, arcsinxA[0], label='Sunspot 1')\n",
    "ax1.scatter(t, arcsinxA[1], label='Sunspot 2')\n",
    "ax1.scatter(t, arcsinxA[2], label='Sunspot 3')\n",
    "ax1.set_xlabel('time / hours')\n",
    "ax1.set_ylabel('arcsin(x/A)')\n",
    "plt.show()"
   ]
  },
  {
   "cell_type": "markdown",
   "metadata": {},
   "source": [
    "Awesome. Let's add a trendline to our graph and use it to calculate the gradients. To do this we will use the ```np.polyfit()``` function."
   ]
  },
  {
   "cell_type": "code",
   "execution_count": null,
   "metadata": {},
   "outputs": [],
   "source": [
    "fits = [np.polyfit(t, y, 1) for y in arcsinxA]\n",
    "fits"
   ]
  },
  {
   "cell_type": "markdown",
   "metadata": {},
   "source": [
    "Here the first value is the gradient and the second value is the intercept of the straight line fit. We can add them to our plot like this:"
   ]
  },
  {
   "cell_type": "code",
   "execution_count": null,
   "metadata": {},
   "outputs": [],
   "source": [
    "ax1.plot(t, fits[0][0]*t+fits[0][1], label='Trend Sunspot 1', alpha=.5)\n",
    "ax1.plot(t, fits[1][0]*t+fits[1][1], label='Trend Sunspot 2', alpha=.5)\n",
    "ax1.plot(t, fits[2][0]*t+fits[2][1], label='Trend Sunspot 3', alpha=.5)\n",
    "ax1.legend(loc='best')\n",
    "fig1"
   ]
  },
  {
   "cell_type": "markdown",
   "metadata": {},
   "source": [
    "Now let's calculate the $T$ values using the gradients and then plot them!"
   ]
  },
  {
   "cell_type": "code",
   "execution_count": null,
   "metadata": {},
   "outputs": [],
   "source": [
    "# use the formula T = 2pi/m to calculate the rotation period for each sunspot\n",
    "# turn it into days by dividing by 24 hours\n",
    "# Your code here:\n",
    "T = \n",
    "\n",
    "T"
   ]
  },
  {
   "cell_type": "markdown",
   "metadata": {},
   "source": [
    "Great! Now let's make one final plot of time period vs latitude. We can calculate the latitude of each sunspot like this:"
   ]
  },
  {
   "cell_type": "code",
   "execution_count": null,
   "metadata": {},
   "outputs": [],
   "source": [
    "lats = [np.round(degrees(np.arcsin((y-512)/512)),1) for y in y_avg]\n",
    "lats"
   ]
  },
  {
   "cell_type": "code",
   "execution_count": null,
   "metadata": {},
   "outputs": [],
   "source": [
    "fig2 = plt.figure(num=2, figsize=(5, 5))\n",
    "ax2 = fig2.add_subplot(111)\n",
    "ax2.set_xlabel('T / days')\n",
    "ax2.set_ylabel('latitude / degrees')\n",
    "ax2.scatter(T, lats, label='synodic')\n",
    "plt.legend()\n",
    "fig2"
   ]
  },
  {
   "cell_type": "markdown",
   "metadata": {},
   "source": [
    "You should see from your image that the sun's rotation period changes with latitude. SunPy can plot the theoretical rotation curve over our data so we can see how close we got to the correct values."
   ]
  },
  {
   "cell_type": "code",
   "execution_count": null,
   "metadata": {},
   "outputs": [],
   "source": [
    "from sunpy.physics.differential_rotation import diff_rot\n",
    "\n",
    "latitudesTheory = np.arange(-90, 90, 1) * u.deg\n",
    "dt = 1 * u.day\n",
    "rotation_rate = [diff_rot(dt, this_lat) / dt for this_lat in latitudesTheory]\n",
    "rotation_period = [360 * u.deg / this_rate for this_rate in rotation_rate]\n",
    "\n",
    "convert = 360/365.25\n",
    "deg_per_day = [360/t + convert for t in T]\n",
    "Tnew = [360/dpd for dpd in deg_per_day]\n",
    "\n",
    "ax2.scatter(Tnew, lats, label='siderial')\n",
    "ax2.plot([this_period.value for this_period in rotation_period], latitudesTheory, label='siderial theory')\n",
    "plt.legend()\n",
    "fig2"
   ]
  },
  {
   "cell_type": "markdown",
   "metadata": {},
   "source": [
    "Notice how in the middle of the sun at 0 degrees the sun rotates fastest, once every 25 days, whereas at the poles it rotates every 36 days. \n",
    "\n",
    "You will also notice a new set of markers much closer to the theoretical curve. These time periods have been corrected for the movement of the Earth around its orbit to give us the actual or siderial rotation of the sun whereas the periods we calculated before were synodic periods. The synodic period is the time taken for the feature (sunspot) to return to the same position as viewed from the Earth which itseld is rotating around the sun. The correction factor, how many degrees per day the Earth moves in its orbit, was added to the degrees per day we observed the sunspots moving.\n",
    "\n",
    "Our data appears to be offset from the theoretical curve in part due to errors from our measurements of the pixel coordinates and errors introduced when resampling.\n",
    "\n",
    "I suggest you look at the theorySunspots notebook now for an explanation of the equation and the theoretical motion of a sunspot across the solar disk.\n",
    "\n",
    "Finally the cell below will draw one of the images again. Choose one which has all the sunspots you tracked in it.\n",
    "In the second cell below there is example code on how to make a rectangle appear on the image. Place a rectangle around all the sunspots you tracked and then use the last code cell to save the image."
   ]
  },
  {
   "cell_type": "code",
   "execution_count": null,
   "metadata": {},
   "outputs": [],
   "source": [
    "fig3, ax3 = plt.subplots(1)\n",
    "ax3.imshow(smaps[5].data, cmap='Greys_r', origin='lower')\n",
    "plt.axis('off')\n",
    "fig3"
   ]
  },
  {
   "cell_type": "code",
   "execution_count": null,
   "metadata": {},
   "outputs": [],
   "source": [
    "# Adapt this template to put a rectangle around each sunspot you tracked\n",
    "# you'll need to copy and paste the code twice below in this cell then change the numbers\n",
    "# Create a Rectangle patch bottom right corner coordinates in the (, ) and width then height\n",
    "rect = patches.Rectangle((190,620),30,35,linewidth=1,edgecolor='cyan',facecolor='none')\n",
    "# Add the patch to the Axes\n",
    "ax3.add_patch(rect)\n",
    "\n",
    "fig3"
   ]
  },
  {
   "cell_type": "code",
   "execution_count": null,
   "metadata": {},
   "outputs": [],
   "source": [
    "plt.savefig('myTrackedSunspots.png', dpi=200)"
   ]
  },
  {
   "cell_type": "markdown",
   "metadata": {},
   "source": [
    "## Challenge\n",
    "\n",
    "It would be great if this process was automated! The file ```sunspotsAuto.py``` has my attempt to automate sunspot detection using ```stara.py``` (see references below), scikit-learn and scikit-image which are image and machine learning modules in python.\n",
    "\n",
    "## References\n",
    "\n",
    "1) SunPy - Differential Rotation Code - https://docs.sunpy.org/en/stable/generated/gallery/plotting/simple_differential_rotation.html  \n",
    "2) Stuart Mumford - stara.py - https://github.com/Cadair/sunspot_experiments/blob/master/  \n",
    "3) scikit-learn - Clustering - https://scikit-learn.org/stable/modules/clustering.html#hierarchical-clustering  \n",
    "4) Roša, D., Brajša, R., Vršnak, B. et al. The relation between the synodic and sidereal rotation period of the Sun. Sol Phys 159, 393–398 (1995). https://doi.org/10.1007/BF00686540  \n",
    "5) scienceinschool - Measuring Solar Rotation - https://www.scienceinschool.org/content/sunspots-rotating-sun"
   ]
  }
 ],
 "metadata": {
  "kernelspec": {
   "display_name": "Python 3",
   "language": "python",
   "name": "python3"
  },
  "language_info": {
   "codemirror_mode": {
    "name": "ipython",
    "version": 3
   },
   "file_extension": ".py",
   "mimetype": "text/x-python",
   "name": "python",
   "nbconvert_exporter": "python",
   "pygments_lexer": "ipython3",
   "version": "3.6.10"
  }
 },
 "nbformat": 4,
 "nbformat_minor": 4
}
